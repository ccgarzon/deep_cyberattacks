{
  "nbformat": 4,
  "nbformat_minor": 0,
  "metadata": {
    "colab": {
      "provenance": []
    },
    "kernelspec": {
      "name": "python3",
      "display_name": "Python 3"
    },
    "language_info": {
      "name": "python"
    }
  },
  "cells": [
    {
      "cell_type": "markdown",
      "source": [
        "CHRISTIAN CAMILO GARZON VASQUEZ\n",
        "\n",
        "\n",
        "---\n",
        "\n",
        "\n",
        "FUNDAMENTOS DE DEEP LEARNING\n",
        "\n",
        "FACULTAD DE INGENIERIA\n",
        "\n",
        "UNIVERSIDAD DE ANTIOQUIA\n",
        "\n",
        "\n",
        "---\n",
        "\n",
        "\n"
      ],
      "metadata": {
        "id": "yN7xIMLxRRb1"
      }
    },
    {
      "cell_type": "markdown",
      "source": [
        "# **PREPROCESAMIENTO**"
      ],
      "metadata": {
        "id": "_NHohvJrwT5x"
      }
    },
    {
      "cell_type": "markdown",
      "source": [
        "\n",
        "\n",
        "---\n",
        "\n"
      ],
      "metadata": {
        "id": "CkArczyJwqdI"
      }
    },
    {
      "cell_type": "markdown",
      "source": [
        "#LIBRERIAS"
      ],
      "metadata": {
        "id": "KuW5e_FARgXz"
      }
    },
    {
      "cell_type": "code",
      "execution_count": 2,
      "metadata": {
        "id": "JOOM8xadRPdU"
      },
      "outputs": [],
      "source": [
        "import pandas as pd"
      ]
    },
    {
      "cell_type": "markdown",
      "source": [
        "# 1. CARGA DE DATOS Y ANÁLISIS INICIAL"
      ],
      "metadata": {
        "id": "tm9ZyxdSXGPi"
      }
    },
    {
      "cell_type": "code",
      "source": [
        "#Conectar drive con colab\n",
        "drive.mount('/content/gdrive')"
      ],
      "metadata": {
        "colab": {
          "base_uri": "https://localhost:8080/"
        },
        "id": "58mGwFDnXJcK",
        "outputId": "34dadab9-e6da-4d50-f345-464cf43a58ba"
      },
      "execution_count": 5,
      "outputs": [
        {
          "output_type": "stream",
          "name": "stdout",
          "text": [
            "Mounted at /content/gdrive\n"
          ]
        }
      ]
    },
    {
      "cell_type": "markdown",
      "source": [
        "LA BASE DE DATOS ORIGINAL PUEDE SER DESCARGADA DESDE: https://www.unb.ca/cic/datasets/ids-2017.html.\n",
        "\n",
        "PUEDE DESCARGAR, DESCOMPRIMIR Y AGREGAR A LA RUTA QUE PREFIERA.\n",
        "\n",
        "EL DATASET PUEDE SER UNIDA CON:"
      ],
      "metadata": {
        "id": "mQApH-Q-pwvA"
      }
    },
    {
      "cell_type": "code",
      "source": [
        "\"\"\"\n",
        "#Cargar archivos desde drive y juntarlos en uno\n",
        "from google.colab import drive\n",
        "import pandas as pd\n",
        "import glob\n",
        "\n",
        "#Conectar drive con colab\n",
        "drive.mount('/content/gdrive')\n",
        "\n",
        "#Generamos la lista 'Archivos' que contiene la ruta de todos los archivos .csv que guardamos en la carpeta '/content/'\n",
        "ruta = r'/***RUTA DONDE ESTAN LOS ARCHIVOS***'\n",
        "archivos = glob.glob(ruta + '/*.csv')\n",
        "\n",
        "#Creando DataFrame\n",
        "df = pd.DataFrame()\n",
        "\n",
        "#Mostrando archivos y enlazados\n",
        "archivos\n",
        "\n",
        "#Concatenando los registros de cada archivo al DataFrame creado\n",
        "for archivo in archivos:\n",
        "    data = pd.read_csv(archivo)\n",
        "    df = pd.concat([df, data], ignore_index = True)\n",
        "\n",
        "#Mostrando archivos y enlazados\n",
        "archivos\n",
        "\n",
        "\"\"\""
      ],
      "metadata": {
        "id": "V7ujA0eywT2v"
      },
      "execution_count": null,
      "outputs": []
    },
    {
      "cell_type": "code",
      "source": [
        "#ARCHIVOS ORIGINALES"
      ],
      "metadata": {
        "colab": {
          "base_uri": "https://localhost:8080/"
        },
        "id": "ehP_5qSJadYR",
        "outputId": "9cf94c62-7f7c-4d4e-bba0-d75d16e677a1"
      },
      "execution_count": null,
      "outputs": [
        {
          "output_type": "execute_result",
          "data": {
            "text/plain": [
              "['/content/gdrive/MyDrive/* Master */2022-2/Deep/Project/CIC2017/Wednesday-workingHours.pcap_ISCX.csv',\n",
              " '/content/gdrive/MyDrive/* Master */2022-2/Deep/Project/CIC2017/Tuesday-WorkingHours.pcap_ISCX.csv',\n",
              " '/content/gdrive/MyDrive/* Master */2022-2/Deep/Project/CIC2017/Thursday-WorkingHours-Morning-WebAttacks.pcap_ISCX.csv',\n",
              " '/content/gdrive/MyDrive/* Master */2022-2/Deep/Project/CIC2017/Thursday-WorkingHours-Afternoon-Infilteration.pcap_ISCX.csv',\n",
              " '/content/gdrive/MyDrive/* Master */2022-2/Deep/Project/CIC2017/Monday-WorkingHours.pcap_ISCX.csv',\n",
              " '/content/gdrive/MyDrive/* Master */2022-2/Deep/Project/CIC2017/Friday-WorkingHours-Morning.pcap_ISCX.csv',\n",
              " '/content/gdrive/MyDrive/* Master */2022-2/Deep/Project/CIC2017/Friday-WorkingHours-Afternoon-PortScan.pcap_ISCX.csv',\n",
              " '/content/gdrive/MyDrive/* Master */2022-2/Deep/Project/CIC2017/Friday-WorkingHours-Afternoon-DDos.pcap_ISCX.csv']"
            ]
          },
          "metadata": {},
          "execution_count": 6
        }
      ]
    },
    {
      "cell_type": "code",
      "source": [
        "#Creando DataFrame\n",
        "df = pd.DataFrame()"
      ],
      "metadata": {
        "id": "jg1psFhhXerZ"
      },
      "execution_count": 3,
      "outputs": []
    },
    {
      "cell_type": "code",
      "source": [
        "#Asegurate de tener el archivo \"data.csv\" en la misma carpeta\n",
        "df = pd.read_csv('data.csv')"
      ],
      "metadata": {
        "id": "gGjaiOszbJ05"
      },
      "execution_count": 4,
      "outputs": []
    },
    {
      "cell_type": "code",
      "source": [
        "#Visualización de las primeras 10 muestras\n",
        "df.head(10)"
      ],
      "metadata": {
        "colab": {
          "base_uri": "https://localhost:8080/",
          "height": 488
        },
        "id": "-8SzYyiNbmnK",
        "outputId": "6de6ac9a-f3d2-4116-f140-7190c360c465"
      },
      "execution_count": 5,
      "outputs": [
        {
          "output_type": "execute_result",
          "data": {
            "text/plain": [
              "    Destination Port   Flow Duration   Total Fwd Packets  \\\n",
              "0                 22         1266342                  41   \n",
              "1                 22         1319353                  41   \n",
              "2                 22             160                   1   \n",
              "3                 22         1303488                  41   \n",
              "4              35396              77                   1   \n",
              "5                 22             244                   1   \n",
              "6                 22         1307239                  41   \n",
              "7              60058              82                   1   \n",
              "8                 22             171                   1   \n",
              "9                 22             210                   1   \n",
              "\n",
              "    Total Backward Packets  Total Length of Fwd Packets  \\\n",
              "0                       44                         2664   \n",
              "1                       44                         2664   \n",
              "2                        1                            0   \n",
              "3                       42                         2728   \n",
              "4                        2                            0   \n",
              "5                        1                            0   \n",
              "6                       40                         2728   \n",
              "7                        2                            0   \n",
              "8                        1                            0   \n",
              "9                        1                            0   \n",
              "\n",
              "    Total Length of Bwd Packets   Fwd Packet Length Max  \\\n",
              "0                          6954                     456   \n",
              "1                          6954                     456   \n",
              "2                             0                       0   \n",
              "3                          6634                     456   \n",
              "4                             0                       0   \n",
              "5                             0                       0   \n",
              "6                          6634                     456   \n",
              "7                             0                       0   \n",
              "8                             0                       0   \n",
              "9                             0                       0   \n",
              "\n",
              "    Fwd Packet Length Min   Fwd Packet Length Mean   Fwd Packet Length Std  \\\n",
              "0                       0                64.975610              109.864573   \n",
              "1                       0                64.975610              109.864573   \n",
              "2                       0                 0.000000                0.000000   \n",
              "3                       0                66.536585              110.129945   \n",
              "4                       0                 0.000000                0.000000   \n",
              "5                       0                 0.000000                0.000000   \n",
              "6                       0                66.536585              110.129945   \n",
              "7                       0                 0.000000                0.000000   \n",
              "8                       0                 0.000000                0.000000   \n",
              "9                       0                 0.000000                0.000000   \n",
              "\n",
              "   ...   min_seg_size_forward  Active Mean   Active Std   Active Max  \\\n",
              "0  ...                   32.0          0.0          0.0          0.0   \n",
              "1  ...                   32.0          0.0          0.0          0.0   \n",
              "2  ...                   32.0          0.0          0.0          0.0   \n",
              "3  ...                   32.0          0.0          0.0          0.0   \n",
              "4  ...                   32.0          0.0          0.0          0.0   \n",
              "5  ...                   32.0          0.0          0.0          0.0   \n",
              "6  ...                   32.0          0.0          0.0          0.0   \n",
              "7  ...                   32.0          0.0          0.0          0.0   \n",
              "8  ...                   32.0          0.0          0.0          0.0   \n",
              "9  ...                   32.0          0.0          0.0          0.0   \n",
              "\n",
              "    Active Min  Idle Mean   Idle Std   Idle Max   Idle Min   Label  \n",
              "0          0.0        0.0        0.0        0.0        0.0  BENIGN  \n",
              "1          0.0        0.0        0.0        0.0        0.0  BENIGN  \n",
              "2          0.0        0.0        0.0        0.0        0.0  BENIGN  \n",
              "3          0.0        0.0        0.0        0.0        0.0  BENIGN  \n",
              "4          0.0        0.0        0.0        0.0        0.0  BENIGN  \n",
              "5          0.0        0.0        0.0        0.0        0.0  BENIGN  \n",
              "6          0.0        0.0        0.0        0.0        0.0  BENIGN  \n",
              "7          0.0        0.0        0.0        0.0        0.0  BENIGN  \n",
              "8          0.0        0.0        0.0        0.0        0.0  BENIGN  \n",
              "9          0.0        0.0        0.0        0.0        0.0  BENIGN  \n",
              "\n",
              "[10 rows x 79 columns]"
            ],
            "text/html": [
              "\n",
              "  <div id=\"df-033ec45f-3190-48b7-8ece-2f7f7479f224\">\n",
              "    <div class=\"colab-df-container\">\n",
              "      <div>\n",
              "<style scoped>\n",
              "    .dataframe tbody tr th:only-of-type {\n",
              "        vertical-align: middle;\n",
              "    }\n",
              "\n",
              "    .dataframe tbody tr th {\n",
              "        vertical-align: top;\n",
              "    }\n",
              "\n",
              "    .dataframe thead th {\n",
              "        text-align: right;\n",
              "    }\n",
              "</style>\n",
              "<table border=\"1\" class=\"dataframe\">\n",
              "  <thead>\n",
              "    <tr style=\"text-align: right;\">\n",
              "      <th></th>\n",
              "      <th>Destination Port</th>\n",
              "      <th>Flow Duration</th>\n",
              "      <th>Total Fwd Packets</th>\n",
              "      <th>Total Backward Packets</th>\n",
              "      <th>Total Length of Fwd Packets</th>\n",
              "      <th>Total Length of Bwd Packets</th>\n",
              "      <th>Fwd Packet Length Max</th>\n",
              "      <th>Fwd Packet Length Min</th>\n",
              "      <th>Fwd Packet Length Mean</th>\n",
              "      <th>Fwd Packet Length Std</th>\n",
              "      <th>...</th>\n",
              "      <th>min_seg_size_forward</th>\n",
              "      <th>Active Mean</th>\n",
              "      <th>Active Std</th>\n",
              "      <th>Active Max</th>\n",
              "      <th>Active Min</th>\n",
              "      <th>Idle Mean</th>\n",
              "      <th>Idle Std</th>\n",
              "      <th>Idle Max</th>\n",
              "      <th>Idle Min</th>\n",
              "      <th>Label</th>\n",
              "    </tr>\n",
              "  </thead>\n",
              "  <tbody>\n",
              "    <tr>\n",
              "      <th>0</th>\n",
              "      <td>22</td>\n",
              "      <td>1266342</td>\n",
              "      <td>41</td>\n",
              "      <td>44</td>\n",
              "      <td>2664</td>\n",
              "      <td>6954</td>\n",
              "      <td>456</td>\n",
              "      <td>0</td>\n",
              "      <td>64.975610</td>\n",
              "      <td>109.864573</td>\n",
              "      <td>...</td>\n",
              "      <td>32.0</td>\n",
              "      <td>0.0</td>\n",
              "      <td>0.0</td>\n",
              "      <td>0.0</td>\n",
              "      <td>0.0</td>\n",
              "      <td>0.0</td>\n",
              "      <td>0.0</td>\n",
              "      <td>0.0</td>\n",
              "      <td>0.0</td>\n",
              "      <td>BENIGN</td>\n",
              "    </tr>\n",
              "    <tr>\n",
              "      <th>1</th>\n",
              "      <td>22</td>\n",
              "      <td>1319353</td>\n",
              "      <td>41</td>\n",
              "      <td>44</td>\n",
              "      <td>2664</td>\n",
              "      <td>6954</td>\n",
              "      <td>456</td>\n",
              "      <td>0</td>\n",
              "      <td>64.975610</td>\n",
              "      <td>109.864573</td>\n",
              "      <td>...</td>\n",
              "      <td>32.0</td>\n",
              "      <td>0.0</td>\n",
              "      <td>0.0</td>\n",
              "      <td>0.0</td>\n",
              "      <td>0.0</td>\n",
              "      <td>0.0</td>\n",
              "      <td>0.0</td>\n",
              "      <td>0.0</td>\n",
              "      <td>0.0</td>\n",
              "      <td>BENIGN</td>\n",
              "    </tr>\n",
              "    <tr>\n",
              "      <th>2</th>\n",
              "      <td>22</td>\n",
              "      <td>160</td>\n",
              "      <td>1</td>\n",
              "      <td>1</td>\n",
              "      <td>0</td>\n",
              "      <td>0</td>\n",
              "      <td>0</td>\n",
              "      <td>0</td>\n",
              "      <td>0.000000</td>\n",
              "      <td>0.000000</td>\n",
              "      <td>...</td>\n",
              "      <td>32.0</td>\n",
              "      <td>0.0</td>\n",
              "      <td>0.0</td>\n",
              "      <td>0.0</td>\n",
              "      <td>0.0</td>\n",
              "      <td>0.0</td>\n",
              "      <td>0.0</td>\n",
              "      <td>0.0</td>\n",
              "      <td>0.0</td>\n",
              "      <td>BENIGN</td>\n",
              "    </tr>\n",
              "    <tr>\n",
              "      <th>3</th>\n",
              "      <td>22</td>\n",
              "      <td>1303488</td>\n",
              "      <td>41</td>\n",
              "      <td>42</td>\n",
              "      <td>2728</td>\n",
              "      <td>6634</td>\n",
              "      <td>456</td>\n",
              "      <td>0</td>\n",
              "      <td>66.536585</td>\n",
              "      <td>110.129945</td>\n",
              "      <td>...</td>\n",
              "      <td>32.0</td>\n",
              "      <td>0.0</td>\n",
              "      <td>0.0</td>\n",
              "      <td>0.0</td>\n",
              "      <td>0.0</td>\n",
              "      <td>0.0</td>\n",
              "      <td>0.0</td>\n",
              "      <td>0.0</td>\n",
              "      <td>0.0</td>\n",
              "      <td>BENIGN</td>\n",
              "    </tr>\n",
              "    <tr>\n",
              "      <th>4</th>\n",
              "      <td>35396</td>\n",
              "      <td>77</td>\n",
              "      <td>1</td>\n",
              "      <td>2</td>\n",
              "      <td>0</td>\n",
              "      <td>0</td>\n",
              "      <td>0</td>\n",
              "      <td>0</td>\n",
              "      <td>0.000000</td>\n",
              "      <td>0.000000</td>\n",
              "      <td>...</td>\n",
              "      <td>32.0</td>\n",
              "      <td>0.0</td>\n",
              "      <td>0.0</td>\n",
              "      <td>0.0</td>\n",
              "      <td>0.0</td>\n",
              "      <td>0.0</td>\n",
              "      <td>0.0</td>\n",
              "      <td>0.0</td>\n",
              "      <td>0.0</td>\n",
              "      <td>BENIGN</td>\n",
              "    </tr>\n",
              "    <tr>\n",
              "      <th>5</th>\n",
              "      <td>22</td>\n",
              "      <td>244</td>\n",
              "      <td>1</td>\n",
              "      <td>1</td>\n",
              "      <td>0</td>\n",
              "      <td>0</td>\n",
              "      <td>0</td>\n",
              "      <td>0</td>\n",
              "      <td>0.000000</td>\n",
              "      <td>0.000000</td>\n",
              "      <td>...</td>\n",
              "      <td>32.0</td>\n",
              "      <td>0.0</td>\n",
              "      <td>0.0</td>\n",
              "      <td>0.0</td>\n",
              "      <td>0.0</td>\n",
              "      <td>0.0</td>\n",
              "      <td>0.0</td>\n",
              "      <td>0.0</td>\n",
              "      <td>0.0</td>\n",
              "      <td>BENIGN</td>\n",
              "    </tr>\n",
              "    <tr>\n",
              "      <th>6</th>\n",
              "      <td>22</td>\n",
              "      <td>1307239</td>\n",
              "      <td>41</td>\n",
              "      <td>40</td>\n",
              "      <td>2728</td>\n",
              "      <td>6634</td>\n",
              "      <td>456</td>\n",
              "      <td>0</td>\n",
              "      <td>66.536585</td>\n",
              "      <td>110.129945</td>\n",
              "      <td>...</td>\n",
              "      <td>32.0</td>\n",
              "      <td>0.0</td>\n",
              "      <td>0.0</td>\n",
              "      <td>0.0</td>\n",
              "      <td>0.0</td>\n",
              "      <td>0.0</td>\n",
              "      <td>0.0</td>\n",
              "      <td>0.0</td>\n",
              "      <td>0.0</td>\n",
              "      <td>BENIGN</td>\n",
              "    </tr>\n",
              "    <tr>\n",
              "      <th>7</th>\n",
              "      <td>60058</td>\n",
              "      <td>82</td>\n",
              "      <td>1</td>\n",
              "      <td>2</td>\n",
              "      <td>0</td>\n",
              "      <td>0</td>\n",
              "      <td>0</td>\n",
              "      <td>0</td>\n",
              "      <td>0.000000</td>\n",
              "      <td>0.000000</td>\n",
              "      <td>...</td>\n",
              "      <td>32.0</td>\n",
              "      <td>0.0</td>\n",
              "      <td>0.0</td>\n",
              "      <td>0.0</td>\n",
              "      <td>0.0</td>\n",
              "      <td>0.0</td>\n",
              "      <td>0.0</td>\n",
              "      <td>0.0</td>\n",
              "      <td>0.0</td>\n",
              "      <td>BENIGN</td>\n",
              "    </tr>\n",
              "    <tr>\n",
              "      <th>8</th>\n",
              "      <td>22</td>\n",
              "      <td>171</td>\n",
              "      <td>1</td>\n",
              "      <td>1</td>\n",
              "      <td>0</td>\n",
              "      <td>0</td>\n",
              "      <td>0</td>\n",
              "      <td>0</td>\n",
              "      <td>0.000000</td>\n",
              "      <td>0.000000</td>\n",
              "      <td>...</td>\n",
              "      <td>32.0</td>\n",
              "      <td>0.0</td>\n",
              "      <td>0.0</td>\n",
              "      <td>0.0</td>\n",
              "      <td>0.0</td>\n",
              "      <td>0.0</td>\n",
              "      <td>0.0</td>\n",
              "      <td>0.0</td>\n",
              "      <td>0.0</td>\n",
              "      <td>BENIGN</td>\n",
              "    </tr>\n",
              "    <tr>\n",
              "      <th>9</th>\n",
              "      <td>22</td>\n",
              "      <td>210</td>\n",
              "      <td>1</td>\n",
              "      <td>1</td>\n",
              "      <td>0</td>\n",
              "      <td>0</td>\n",
              "      <td>0</td>\n",
              "      <td>0</td>\n",
              "      <td>0.000000</td>\n",
              "      <td>0.000000</td>\n",
              "      <td>...</td>\n",
              "      <td>32.0</td>\n",
              "      <td>0.0</td>\n",
              "      <td>0.0</td>\n",
              "      <td>0.0</td>\n",
              "      <td>0.0</td>\n",
              "      <td>0.0</td>\n",
              "      <td>0.0</td>\n",
              "      <td>0.0</td>\n",
              "      <td>0.0</td>\n",
              "      <td>BENIGN</td>\n",
              "    </tr>\n",
              "  </tbody>\n",
              "</table>\n",
              "<p>10 rows × 79 columns</p>\n",
              "</div>\n",
              "      <button class=\"colab-df-convert\" onclick=\"convertToInteractive('df-033ec45f-3190-48b7-8ece-2f7f7479f224')\"\n",
              "              title=\"Convert this dataframe to an interactive table.\"\n",
              "              style=\"display:none;\">\n",
              "        \n",
              "  <svg xmlns=\"http://www.w3.org/2000/svg\" height=\"24px\"viewBox=\"0 0 24 24\"\n",
              "       width=\"24px\">\n",
              "    <path d=\"M0 0h24v24H0V0z\" fill=\"none\"/>\n",
              "    <path d=\"M18.56 5.44l.94 2.06.94-2.06 2.06-.94-2.06-.94-.94-2.06-.94 2.06-2.06.94zm-11 1L8.5 8.5l.94-2.06 2.06-.94-2.06-.94L8.5 2.5l-.94 2.06-2.06.94zm10 10l.94 2.06.94-2.06 2.06-.94-2.06-.94-.94-2.06-.94 2.06-2.06.94z\"/><path d=\"M17.41 7.96l-1.37-1.37c-.4-.4-.92-.59-1.43-.59-.52 0-1.04.2-1.43.59L10.3 9.45l-7.72 7.72c-.78.78-.78 2.05 0 2.83L4 21.41c.39.39.9.59 1.41.59.51 0 1.02-.2 1.41-.59l7.78-7.78 2.81-2.81c.8-.78.8-2.07 0-2.86zM5.41 20L4 18.59l7.72-7.72 1.47 1.35L5.41 20z\"/>\n",
              "  </svg>\n",
              "      </button>\n",
              "      \n",
              "  <style>\n",
              "    .colab-df-container {\n",
              "      display:flex;\n",
              "      flex-wrap:wrap;\n",
              "      gap: 12px;\n",
              "    }\n",
              "\n",
              "    .colab-df-convert {\n",
              "      background-color: #E8F0FE;\n",
              "      border: none;\n",
              "      border-radius: 50%;\n",
              "      cursor: pointer;\n",
              "      display: none;\n",
              "      fill: #1967D2;\n",
              "      height: 32px;\n",
              "      padding: 0 0 0 0;\n",
              "      width: 32px;\n",
              "    }\n",
              "\n",
              "    .colab-df-convert:hover {\n",
              "      background-color: #E2EBFA;\n",
              "      box-shadow: 0px 1px 2px rgba(60, 64, 67, 0.3), 0px 1px 3px 1px rgba(60, 64, 67, 0.15);\n",
              "      fill: #174EA6;\n",
              "    }\n",
              "\n",
              "    [theme=dark] .colab-df-convert {\n",
              "      background-color: #3B4455;\n",
              "      fill: #D2E3FC;\n",
              "    }\n",
              "\n",
              "    [theme=dark] .colab-df-convert:hover {\n",
              "      background-color: #434B5C;\n",
              "      box-shadow: 0px 1px 3px 1px rgba(0, 0, 0, 0.15);\n",
              "      filter: drop-shadow(0px 1px 2px rgba(0, 0, 0, 0.3));\n",
              "      fill: #FFFFFF;\n",
              "    }\n",
              "  </style>\n",
              "\n",
              "      <script>\n",
              "        const buttonEl =\n",
              "          document.querySelector('#df-033ec45f-3190-48b7-8ece-2f7f7479f224 button.colab-df-convert');\n",
              "        buttonEl.style.display =\n",
              "          google.colab.kernel.accessAllowed ? 'block' : 'none';\n",
              "\n",
              "        async function convertToInteractive(key) {\n",
              "          const element = document.querySelector('#df-033ec45f-3190-48b7-8ece-2f7f7479f224');\n",
              "          const dataTable =\n",
              "            await google.colab.kernel.invokeFunction('convertToInteractive',\n",
              "                                                     [key], {});\n",
              "          if (!dataTable) return;\n",
              "\n",
              "          const docLinkHtml = 'Like what you see? Visit the ' +\n",
              "            '<a target=\"_blank\" href=https://colab.research.google.com/notebooks/data_table.ipynb>data table notebook</a>'\n",
              "            + ' to learn more about interactive tables.';\n",
              "          element.innerHTML = '';\n",
              "          dataTable['output_type'] = 'display_data';\n",
              "          await google.colab.output.renderOutput(dataTable, element);\n",
              "          const docLink = document.createElement('div');\n",
              "          docLink.innerHTML = docLinkHtml;\n",
              "          element.appendChild(docLink);\n",
              "        }\n",
              "      </script>\n",
              "    </div>\n",
              "  </div>\n",
              "  "
            ]
          },
          "metadata": {},
          "execution_count": 5
        }
      ]
    },
    {
      "cell_type": "code",
      "source": [
        "#Visualización de las últimas 10 muestras\n",
        "df.tail(10)"
      ],
      "metadata": {
        "colab": {
          "base_uri": "https://localhost:8080/",
          "height": 488
        },
        "id": "PV77i5e6b1Ey",
        "outputId": "97054a71-c4b2-40a2-f902-7283636bbd3a"
      },
      "execution_count": null,
      "outputs": [
        {
          "output_type": "execute_result",
          "data": {
            "text/plain": [
              "          Destination Port   Flow Duration   Total Fwd Packets  \\\n",
              "2830733              61301              28                   1   \n",
              "2830734              38130              45                   1   \n",
              "2830735              10398               4                   2   \n",
              "2830736              61376              44                   1   \n",
              "2830737              61377              26                   1   \n",
              "2830738              61374              61                   1   \n",
              "2830739              61378              72                   1   \n",
              "2830740              61375              75                   1   \n",
              "2830741              61323              48                   2   \n",
              "2830742              61326              68                   1   \n",
              "\n",
              "          Total Backward Packets  Total Length of Fwd Packets  \\\n",
              "2830733                        1                            6   \n",
              "2830734                        1                            0   \n",
              "2830735                        0                          248   \n",
              "2830736                        1                            6   \n",
              "2830737                        1                            6   \n",
              "2830738                        1                            6   \n",
              "2830739                        1                            6   \n",
              "2830740                        1                            6   \n",
              "2830741                        0                           12   \n",
              "2830742                        1                            6   \n",
              "\n",
              "          Total Length of Bwd Packets   Fwd Packet Length Max  \\\n",
              "2830733                             6                       6   \n",
              "2830734                             0                       0   \n",
              "2830735                             0                     242   \n",
              "2830736                             6                       6   \n",
              "2830737                             6                       6   \n",
              "2830738                             6                       6   \n",
              "2830739                             6                       6   \n",
              "2830740                             6                       6   \n",
              "2830741                             0                       6   \n",
              "2830742                             6                       6   \n",
              "\n",
              "          Fwd Packet Length Min   Fwd Packet Length Mean  \\\n",
              "2830733                       6                      6.0   \n",
              "2830734                       0                      0.0   \n",
              "2830735                       6                    124.0   \n",
              "2830736                       6                      6.0   \n",
              "2830737                       6                      6.0   \n",
              "2830738                       6                      6.0   \n",
              "2830739                       6                      6.0   \n",
              "2830740                       6                      6.0   \n",
              "2830741                       6                      6.0   \n",
              "2830742                       6                      6.0   \n",
              "\n",
              "          Fwd Packet Length Std  ...   min_seg_size_forward  Active Mean  \\\n",
              "2830733                  0.0000  ...                     20          0.0   \n",
              "2830734                  0.0000  ...                     32          0.0   \n",
              "2830735                166.8772  ...                     20          0.0   \n",
              "2830736                  0.0000  ...                     20          0.0   \n",
              "2830737                  0.0000  ...                     20          0.0   \n",
              "2830738                  0.0000  ...                     20          0.0   \n",
              "2830739                  0.0000  ...                     20          0.0   \n",
              "2830740                  0.0000  ...                     20          0.0   \n",
              "2830741                  0.0000  ...                     20          0.0   \n",
              "2830742                  0.0000  ...                     20          0.0   \n",
              "\n",
              "          Active Std   Active Max   Active Min  Idle Mean   Idle Std  \\\n",
              "2830733          0.0            0            0        0.0        0.0   \n",
              "2830734          0.0            0            0        0.0        0.0   \n",
              "2830735          0.0            0            0        0.0        0.0   \n",
              "2830736          0.0            0            0        0.0        0.0   \n",
              "2830737          0.0            0            0        0.0        0.0   \n",
              "2830738          0.0            0            0        0.0        0.0   \n",
              "2830739          0.0            0            0        0.0        0.0   \n",
              "2830740          0.0            0            0        0.0        0.0   \n",
              "2830741          0.0            0            0        0.0        0.0   \n",
              "2830742          0.0            0            0        0.0        0.0   \n",
              "\n",
              "          Idle Max   Idle Min   Label  \n",
              "2830733          0          0  BENIGN  \n",
              "2830734          0          0  BENIGN  \n",
              "2830735          0          0  BENIGN  \n",
              "2830736          0          0  BENIGN  \n",
              "2830737          0          0  BENIGN  \n",
              "2830738          0          0  BENIGN  \n",
              "2830739          0          0  BENIGN  \n",
              "2830740          0          0  BENIGN  \n",
              "2830741          0          0  BENIGN  \n",
              "2830742          0          0  BENIGN  \n",
              "\n",
              "[10 rows x 79 columns]"
            ],
            "text/html": [
              "\n",
              "  <div id=\"df-41b27c6b-8204-4519-83f7-1ba0d26a55b7\">\n",
              "    <div class=\"colab-df-container\">\n",
              "      <div>\n",
              "<style scoped>\n",
              "    .dataframe tbody tr th:only-of-type {\n",
              "        vertical-align: middle;\n",
              "    }\n",
              "\n",
              "    .dataframe tbody tr th {\n",
              "        vertical-align: top;\n",
              "    }\n",
              "\n",
              "    .dataframe thead th {\n",
              "        text-align: right;\n",
              "    }\n",
              "</style>\n",
              "<table border=\"1\" class=\"dataframe\">\n",
              "  <thead>\n",
              "    <tr style=\"text-align: right;\">\n",
              "      <th></th>\n",
              "      <th>Destination Port</th>\n",
              "      <th>Flow Duration</th>\n",
              "      <th>Total Fwd Packets</th>\n",
              "      <th>Total Backward Packets</th>\n",
              "      <th>Total Length of Fwd Packets</th>\n",
              "      <th>Total Length of Bwd Packets</th>\n",
              "      <th>Fwd Packet Length Max</th>\n",
              "      <th>Fwd Packet Length Min</th>\n",
              "      <th>Fwd Packet Length Mean</th>\n",
              "      <th>Fwd Packet Length Std</th>\n",
              "      <th>...</th>\n",
              "      <th>min_seg_size_forward</th>\n",
              "      <th>Active Mean</th>\n",
              "      <th>Active Std</th>\n",
              "      <th>Active Max</th>\n",
              "      <th>Active Min</th>\n",
              "      <th>Idle Mean</th>\n",
              "      <th>Idle Std</th>\n",
              "      <th>Idle Max</th>\n",
              "      <th>Idle Min</th>\n",
              "      <th>Label</th>\n",
              "    </tr>\n",
              "  </thead>\n",
              "  <tbody>\n",
              "    <tr>\n",
              "      <th>2830733</th>\n",
              "      <td>61301</td>\n",
              "      <td>28</td>\n",
              "      <td>1</td>\n",
              "      <td>1</td>\n",
              "      <td>6</td>\n",
              "      <td>6</td>\n",
              "      <td>6</td>\n",
              "      <td>6</td>\n",
              "      <td>6.0</td>\n",
              "      <td>0.0000</td>\n",
              "      <td>...</td>\n",
              "      <td>20</td>\n",
              "      <td>0.0</td>\n",
              "      <td>0.0</td>\n",
              "      <td>0</td>\n",
              "      <td>0</td>\n",
              "      <td>0.0</td>\n",
              "      <td>0.0</td>\n",
              "      <td>0</td>\n",
              "      <td>0</td>\n",
              "      <td>BENIGN</td>\n",
              "    </tr>\n",
              "    <tr>\n",
              "      <th>2830734</th>\n",
              "      <td>38130</td>\n",
              "      <td>45</td>\n",
              "      <td>1</td>\n",
              "      <td>1</td>\n",
              "      <td>0</td>\n",
              "      <td>0</td>\n",
              "      <td>0</td>\n",
              "      <td>0</td>\n",
              "      <td>0.0</td>\n",
              "      <td>0.0000</td>\n",
              "      <td>...</td>\n",
              "      <td>32</td>\n",
              "      <td>0.0</td>\n",
              "      <td>0.0</td>\n",
              "      <td>0</td>\n",
              "      <td>0</td>\n",
              "      <td>0.0</td>\n",
              "      <td>0.0</td>\n",
              "      <td>0</td>\n",
              "      <td>0</td>\n",
              "      <td>BENIGN</td>\n",
              "    </tr>\n",
              "    <tr>\n",
              "      <th>2830735</th>\n",
              "      <td>10398</td>\n",
              "      <td>4</td>\n",
              "      <td>2</td>\n",
              "      <td>0</td>\n",
              "      <td>248</td>\n",
              "      <td>0</td>\n",
              "      <td>242</td>\n",
              "      <td>6</td>\n",
              "      <td>124.0</td>\n",
              "      <td>166.8772</td>\n",
              "      <td>...</td>\n",
              "      <td>20</td>\n",
              "      <td>0.0</td>\n",
              "      <td>0.0</td>\n",
              "      <td>0</td>\n",
              "      <td>0</td>\n",
              "      <td>0.0</td>\n",
              "      <td>0.0</td>\n",
              "      <td>0</td>\n",
              "      <td>0</td>\n",
              "      <td>BENIGN</td>\n",
              "    </tr>\n",
              "    <tr>\n",
              "      <th>2830736</th>\n",
              "      <td>61376</td>\n",
              "      <td>44</td>\n",
              "      <td>1</td>\n",
              "      <td>1</td>\n",
              "      <td>6</td>\n",
              "      <td>6</td>\n",
              "      <td>6</td>\n",
              "      <td>6</td>\n",
              "      <td>6.0</td>\n",
              "      <td>0.0000</td>\n",
              "      <td>...</td>\n",
              "      <td>20</td>\n",
              "      <td>0.0</td>\n",
              "      <td>0.0</td>\n",
              "      <td>0</td>\n",
              "      <td>0</td>\n",
              "      <td>0.0</td>\n",
              "      <td>0.0</td>\n",
              "      <td>0</td>\n",
              "      <td>0</td>\n",
              "      <td>BENIGN</td>\n",
              "    </tr>\n",
              "    <tr>\n",
              "      <th>2830737</th>\n",
              "      <td>61377</td>\n",
              "      <td>26</td>\n",
              "      <td>1</td>\n",
              "      <td>1</td>\n",
              "      <td>6</td>\n",
              "      <td>6</td>\n",
              "      <td>6</td>\n",
              "      <td>6</td>\n",
              "      <td>6.0</td>\n",
              "      <td>0.0000</td>\n",
              "      <td>...</td>\n",
              "      <td>20</td>\n",
              "      <td>0.0</td>\n",
              "      <td>0.0</td>\n",
              "      <td>0</td>\n",
              "      <td>0</td>\n",
              "      <td>0.0</td>\n",
              "      <td>0.0</td>\n",
              "      <td>0</td>\n",
              "      <td>0</td>\n",
              "      <td>BENIGN</td>\n",
              "    </tr>\n",
              "    <tr>\n",
              "      <th>2830738</th>\n",
              "      <td>61374</td>\n",
              "      <td>61</td>\n",
              "      <td>1</td>\n",
              "      <td>1</td>\n",
              "      <td>6</td>\n",
              "      <td>6</td>\n",
              "      <td>6</td>\n",
              "      <td>6</td>\n",
              "      <td>6.0</td>\n",
              "      <td>0.0000</td>\n",
              "      <td>...</td>\n",
              "      <td>20</td>\n",
              "      <td>0.0</td>\n",
              "      <td>0.0</td>\n",
              "      <td>0</td>\n",
              "      <td>0</td>\n",
              "      <td>0.0</td>\n",
              "      <td>0.0</td>\n",
              "      <td>0</td>\n",
              "      <td>0</td>\n",
              "      <td>BENIGN</td>\n",
              "    </tr>\n",
              "    <tr>\n",
              "      <th>2830739</th>\n",
              "      <td>61378</td>\n",
              "      <td>72</td>\n",
              "      <td>1</td>\n",
              "      <td>1</td>\n",
              "      <td>6</td>\n",
              "      <td>6</td>\n",
              "      <td>6</td>\n",
              "      <td>6</td>\n",
              "      <td>6.0</td>\n",
              "      <td>0.0000</td>\n",
              "      <td>...</td>\n",
              "      <td>20</td>\n",
              "      <td>0.0</td>\n",
              "      <td>0.0</td>\n",
              "      <td>0</td>\n",
              "      <td>0</td>\n",
              "      <td>0.0</td>\n",
              "      <td>0.0</td>\n",
              "      <td>0</td>\n",
              "      <td>0</td>\n",
              "      <td>BENIGN</td>\n",
              "    </tr>\n",
              "    <tr>\n",
              "      <th>2830740</th>\n",
              "      <td>61375</td>\n",
              "      <td>75</td>\n",
              "      <td>1</td>\n",
              "      <td>1</td>\n",
              "      <td>6</td>\n",
              "      <td>6</td>\n",
              "      <td>6</td>\n",
              "      <td>6</td>\n",
              "      <td>6.0</td>\n",
              "      <td>0.0000</td>\n",
              "      <td>...</td>\n",
              "      <td>20</td>\n",
              "      <td>0.0</td>\n",
              "      <td>0.0</td>\n",
              "      <td>0</td>\n",
              "      <td>0</td>\n",
              "      <td>0.0</td>\n",
              "      <td>0.0</td>\n",
              "      <td>0</td>\n",
              "      <td>0</td>\n",
              "      <td>BENIGN</td>\n",
              "    </tr>\n",
              "    <tr>\n",
              "      <th>2830741</th>\n",
              "      <td>61323</td>\n",
              "      <td>48</td>\n",
              "      <td>2</td>\n",
              "      <td>0</td>\n",
              "      <td>12</td>\n",
              "      <td>0</td>\n",
              "      <td>6</td>\n",
              "      <td>6</td>\n",
              "      <td>6.0</td>\n",
              "      <td>0.0000</td>\n",
              "      <td>...</td>\n",
              "      <td>20</td>\n",
              "      <td>0.0</td>\n",
              "      <td>0.0</td>\n",
              "      <td>0</td>\n",
              "      <td>0</td>\n",
              "      <td>0.0</td>\n",
              "      <td>0.0</td>\n",
              "      <td>0</td>\n",
              "      <td>0</td>\n",
              "      <td>BENIGN</td>\n",
              "    </tr>\n",
              "    <tr>\n",
              "      <th>2830742</th>\n",
              "      <td>61326</td>\n",
              "      <td>68</td>\n",
              "      <td>1</td>\n",
              "      <td>1</td>\n",
              "      <td>6</td>\n",
              "      <td>6</td>\n",
              "      <td>6</td>\n",
              "      <td>6</td>\n",
              "      <td>6.0</td>\n",
              "      <td>0.0000</td>\n",
              "      <td>...</td>\n",
              "      <td>20</td>\n",
              "      <td>0.0</td>\n",
              "      <td>0.0</td>\n",
              "      <td>0</td>\n",
              "      <td>0</td>\n",
              "      <td>0.0</td>\n",
              "      <td>0.0</td>\n",
              "      <td>0</td>\n",
              "      <td>0</td>\n",
              "      <td>BENIGN</td>\n",
              "    </tr>\n",
              "  </tbody>\n",
              "</table>\n",
              "<p>10 rows × 79 columns</p>\n",
              "</div>\n",
              "      <button class=\"colab-df-convert\" onclick=\"convertToInteractive('df-41b27c6b-8204-4519-83f7-1ba0d26a55b7')\"\n",
              "              title=\"Convert this dataframe to an interactive table.\"\n",
              "              style=\"display:none;\">\n",
              "        \n",
              "  <svg xmlns=\"http://www.w3.org/2000/svg\" height=\"24px\"viewBox=\"0 0 24 24\"\n",
              "       width=\"24px\">\n",
              "    <path d=\"M0 0h24v24H0V0z\" fill=\"none\"/>\n",
              "    <path d=\"M18.56 5.44l.94 2.06.94-2.06 2.06-.94-2.06-.94-.94-2.06-.94 2.06-2.06.94zm-11 1L8.5 8.5l.94-2.06 2.06-.94-2.06-.94L8.5 2.5l-.94 2.06-2.06.94zm10 10l.94 2.06.94-2.06 2.06-.94-2.06-.94-.94-2.06-.94 2.06-2.06.94z\"/><path d=\"M17.41 7.96l-1.37-1.37c-.4-.4-.92-.59-1.43-.59-.52 0-1.04.2-1.43.59L10.3 9.45l-7.72 7.72c-.78.78-.78 2.05 0 2.83L4 21.41c.39.39.9.59 1.41.59.51 0 1.02-.2 1.41-.59l7.78-7.78 2.81-2.81c.8-.78.8-2.07 0-2.86zM5.41 20L4 18.59l7.72-7.72 1.47 1.35L5.41 20z\"/>\n",
              "  </svg>\n",
              "      </button>\n",
              "      \n",
              "  <style>\n",
              "    .colab-df-container {\n",
              "      display:flex;\n",
              "      flex-wrap:wrap;\n",
              "      gap: 12px;\n",
              "    }\n",
              "\n",
              "    .colab-df-convert {\n",
              "      background-color: #E8F0FE;\n",
              "      border: none;\n",
              "      border-radius: 50%;\n",
              "      cursor: pointer;\n",
              "      display: none;\n",
              "      fill: #1967D2;\n",
              "      height: 32px;\n",
              "      padding: 0 0 0 0;\n",
              "      width: 32px;\n",
              "    }\n",
              "\n",
              "    .colab-df-convert:hover {\n",
              "      background-color: #E2EBFA;\n",
              "      box-shadow: 0px 1px 2px rgba(60, 64, 67, 0.3), 0px 1px 3px 1px rgba(60, 64, 67, 0.15);\n",
              "      fill: #174EA6;\n",
              "    }\n",
              "\n",
              "    [theme=dark] .colab-df-convert {\n",
              "      background-color: #3B4455;\n",
              "      fill: #D2E3FC;\n",
              "    }\n",
              "\n",
              "    [theme=dark] .colab-df-convert:hover {\n",
              "      background-color: #434B5C;\n",
              "      box-shadow: 0px 1px 3px 1px rgba(0, 0, 0, 0.15);\n",
              "      filter: drop-shadow(0px 1px 2px rgba(0, 0, 0, 0.3));\n",
              "      fill: #FFFFFF;\n",
              "    }\n",
              "  </style>\n",
              "\n",
              "      <script>\n",
              "        const buttonEl =\n",
              "          document.querySelector('#df-41b27c6b-8204-4519-83f7-1ba0d26a55b7 button.colab-df-convert');\n",
              "        buttonEl.style.display =\n",
              "          google.colab.kernel.accessAllowed ? 'block' : 'none';\n",
              "\n",
              "        async function convertToInteractive(key) {\n",
              "          const element = document.querySelector('#df-41b27c6b-8204-4519-83f7-1ba0d26a55b7');\n",
              "          const dataTable =\n",
              "            await google.colab.kernel.invokeFunction('convertToInteractive',\n",
              "                                                     [key], {});\n",
              "          if (!dataTable) return;\n",
              "\n",
              "          const docLinkHtml = 'Like what you see? Visit the ' +\n",
              "            '<a target=\"_blank\" href=https://colab.research.google.com/notebooks/data_table.ipynb>data table notebook</a>'\n",
              "            + ' to learn more about interactive tables.';\n",
              "          element.innerHTML = '';\n",
              "          dataTable['output_type'] = 'display_data';\n",
              "          await google.colab.output.renderOutput(dataTable, element);\n",
              "          const docLink = document.createElement('div');\n",
              "          docLink.innerHTML = docLinkHtml;\n",
              "          element.appendChild(docLink);\n",
              "        }\n",
              "      </script>\n",
              "    </div>\n",
              "  </div>\n",
              "  "
            ]
          },
          "metadata": {},
          "execution_count": 9
        }
      ]
    },
    {
      "cell_type": "code",
      "source": [
        "#Dimensiones del DataFrame\n",
        "df.shape"
      ],
      "metadata": {
        "colab": {
          "base_uri": "https://localhost:8080/"
        },
        "id": "b6u2y7cXb5Qh",
        "outputId": "45e3c05a-069c-4395-9d40-c754d0e40036"
      },
      "execution_count": null,
      "outputs": [
        {
          "output_type": "execute_result",
          "data": {
            "text/plain": [
              "(2830743, 79)"
            ]
          },
          "metadata": {},
          "execution_count": 10
        }
      ]
    },
    {
      "cell_type": "markdown",
      "source": [
        "Un total de 80 características y 2830743 muestras. ¿Qué cantidad de etiquetas tiene el DataFrame? ¿Cuántas muestras por etiqueta?"
      ],
      "metadata": {
        "id": "VRPCE-2hcDIr"
      }
    },
    {
      "cell_type": "code",
      "source": [
        "#Solo columna \" Label\" (con espacio)\n",
        "labels = pd.DataFrame() #Creando DataFrame\n",
        "labels = df[' Label'].copy() #Copiando solo columna de label"
      ],
      "metadata": {
        "id": "pCcblPc9cBMw"
      },
      "execution_count": null,
      "outputs": []
    },
    {
      "cell_type": "code",
      "source": [
        "#Grafico\n",
        "plot = labels.value_counts().plot(kind='bar', figsize=(12, 5), title='Etiquetas del DataFrame')"
      ],
      "metadata": {
        "colab": {
          "base_uri": "https://localhost:8080/",
          "height": 460
        },
        "id": "eBa1PBHvcqpp",
        "outputId": "25dc5f2d-b312-4ec9-a8f0-e4159da5bb81"
      },
      "execution_count": null,
      "outputs": [
        {
          "output_type": "display_data",
          "data": {
            "text/plain": [
              "<Figure size 864x360 with 1 Axes>"
            ],
            "image/png": "[encoded data removed]"
          },
          "metadata": {
            "needs_background": "light"
          }
        }
      ]
    },
    {
      "cell_type": "markdown",
      "source": [
        "Claramente se nota el desbalance entre las etiquetas. Primando la etiqueta \"Benigno\" sobre las demás que podrían considerarse como \"Malignas\". A continuación se tomarán solo aquellos valores que no son \"Benignos\" es decir, los ataques."
      ],
      "metadata": {
        "id": "RpZlBdoYc1xa"
      }
    },
    {
      "cell_type": "markdown",
      "source": [
        "#2. BALANCEO DE DATOS Y GUARDADO DE CSV's"
      ],
      "metadata": {
        "id": "zwlB8kA-vg4Y"
      }
    },
    {
      "cell_type": "code",
      "source": [
        "#DataFrame de solo labels de ataques\n",
        "ataques = df[df[' Label'] != 'BENIGN'] #De la columna \" Label\" tomar todo lo que no sea benigno\n",
        "ataques[' Label'].value_counts() #Cantidad de muestras por ataque"
      ],
      "metadata": {
        "colab": {
          "base_uri": "https://localhost:8080/"
        },
        "id": "9YoeNcqRc0PR",
        "outputId": "0b1a3d25-d4ee-4d6f-9134-af22743570c5"
      },
      "execution_count": null,
      "outputs": [
        {
          "output_type": "execute_result",
          "data": {
            "text/plain": [
              "DoS Hulk                      231073\n",
              "PortScan                      158930\n",
              "DDoS                          128027\n",
              "DoS GoldenEye                  10293\n",
              "FTP-Patator                     7938\n",
              "SSH-Patator                     5897\n",
              "DoS slowloris                   5796\n",
              "DoS Slowhttptest                5499\n",
              "Bot                             1966\n",
              "Web Attack � Brute Force        1507\n",
              "Web Attack � XSS                 652\n",
              "Infiltration                      36\n",
              "Web Attack � Sql Injection        21\n",
              "Heartbleed                        11\n",
              "Name:  Label, dtype: int64"
            ]
          },
          "metadata": {},
          "execution_count": 13
        }
      ]
    },
    {
      "cell_type": "code",
      "source": [
        "#Obteniendo lista de etiquetas de ataques\n",
        "attacks_list = list(ataques[\" Label\"])\n",
        "attacks_list = set(attacks_list)"
      ],
      "metadata": {
        "id": "uW7bw6naf1BJ"
      },
      "execution_count": null,
      "outputs": []
    },
    {
      "cell_type": "code",
      "source": [
        "#En base de datos inicial, cambiar \"Benign\" por 0 y el resto por 1\n",
        "df[' Label'] = df[' Label'].replace(['BENIGN'], 0) #Pasando valor BENIGN a 0\n",
        "df[' Label'] = df[' Label'].replace(attacks_list, 1) #Todos los ataques a 1"
      ],
      "metadata": {
        "id": "mmYluPLegJBa"
      },
      "execution_count": null,
      "outputs": []
    },
    {
      "cell_type": "code",
      "source": [
        "#Contador de etiquetas 0 y 1\n",
        "class_0_total, class_1_total = df[' Label'].value_counts()\n",
        "\n",
        "# Separacion de clases\n",
        "class_0 = df[df[' Label'] == 0] #Aquellas que son benignas\n",
        "class_1 = df[df[' Label'] == 1] #Aquellas que son malignas\n",
        "print('Clase 0 o Benignas:', class_0.shape)\n",
        "print('Clase 1 o Malignas:', class_1.shape)"
      ],
      "metadata": {
        "colab": {
          "base_uri": "https://localhost:8080/"
        },
        "id": "zKJLBLXgghwE",
        "outputId": "138554e2-0898-47fb-a9f9-109b28313fd3"
      },
      "execution_count": null,
      "outputs": [
        {
          "output_type": "stream",
          "name": "stdout",
          "text": [
            "Clase 0 o Benignas: (2273097, 79)\n",
            "Clase 1 o Malignas: (557646, 79)\n"
          ]
        }
      ]
    },
    {
      "cell_type": "code",
      "source": [
        "total = pd.concat([class_0, class_1], axis=0)\n",
        "\n",
        "print(\"TOTAL POR CLASES:\\n\", total[' Label'].value_counts())\n",
        "total[' Label'].value_counts().plot(kind='bar', title='Total muestras por clase')"
      ],
      "metadata": {
        "colab": {
          "base_uri": "https://localhost:8080/",
          "height": 365
        },
        "id": "6JkkdqpRgaIK",
        "outputId": "1b0d42a7-4de9-4396-bffd-577b108f0a7f"
      },
      "execution_count": null,
      "outputs": [
        {
          "output_type": "stream",
          "name": "stdout",
          "text": [
            "TOTAL POR CLASES:\n",
            " 0    2273097\n",
            "1     557646\n",
            "Name:  Label, dtype: int64\n"
          ]
        },
        {
          "output_type": "execute_result",
          "data": {
            "text/plain": [
              "<matplotlib.axes._subplots.AxesSubplot at 0x7f12dd6d5160>"
            ]
          },
          "metadata": {},
          "execution_count": 17
        },
        {
          "output_type": "display_data",
          "data": {
            "text/plain": [
              "<Figure size 432x288 with 1 Axes>"
            ],
            "image/png": "[encoded data removed]"
          },
          "metadata": {
            "needs_background": "light"
          }
        }
      ]
    },
    {
      "cell_type": "markdown",
      "source": [
        "Para demostrar más el desbalance entre clases, puede notarse según la gráfica anterior que la cantidad de datos benignos son alrededor de 4 veces la cantidad de datos malignos."
      ],
      "metadata": {
        "id": "KD_02oixg9AB"
      }
    },
    {
      "cell_type": "code",
      "source": [
        "#Guardando base de datos desbalanceada y con valores de etiqueta binarios (1 \"Benigno\" y 0 \"Maligno\")\n",
        "#Descomentar siguiente celda si quiere guardar la base de datos desbalanceada\n",
        "#df.to_csv(\"data_bin_desbalanceada.csv\", index = False)"
      ],
      "metadata": {
        "id": "LLSvYgJWhZYp"
      },
      "execution_count": null,
      "outputs": []
    },
    {
      "cell_type": "code",
      "source": [
        "#Balanceando DataFrame\n",
        "class_0_balance = class_0.sample(class_1_total) #Hacer un muestreo en clase 0 para un total de muestras igual a clase 1.\n",
        "test_under = pd.concat([class_0_balance, class_1], axis=0) #Concatenar total de muestras de etiqueta 0 con las de etiqueta 1.\n",
        "\n",
        "print(\"TOTAL:\\n\", test_under[' Label'].value_counts())\n",
        "test_under[' Label'].value_counts().plot(kind='bar', title='Total por clase')"
      ],
      "metadata": {
        "colab": {
          "base_uri": "https://localhost:8080/",
          "height": 365
        },
        "id": "1jDn7nZBjruD",
        "outputId": "e518a0b0-6afa-4485-fc46-731faa240124"
      },
      "execution_count": null,
      "outputs": [
        {
          "output_type": "stream",
          "name": "stdout",
          "text": [
            "TOTAL:\n",
            " 0    557646\n",
            "1    557646\n",
            "Name:  Label, dtype: int64\n"
          ]
        },
        {
          "output_type": "execute_result",
          "data": {
            "text/plain": [
              "<matplotlib.axes._subplots.AxesSubplot at 0x7f12dd69cfa0>"
            ]
          },
          "metadata": {},
          "execution_count": 19
        },
        {
          "output_type": "display_data",
          "data": {
            "text/plain": [
              "<Figure size 432x288 with 1 Axes>"
            ],
            "image/png": "[encoded data removed]"
          },
          "metadata": {
            "needs_background": "light"
          }
        }
      ]
    },
    {
      "cell_type": "markdown",
      "source": [
        "En este caso, el DataFrame ha sido balanceado contanto ambas clases con iguales cantidad de muestras."
      ],
      "metadata": {
        "id": "q5jwpp6xrQ9H"
      }
    },
    {
      "cell_type": "code",
      "source": [
        "#Barajando filas, evitando que quede primeramente una clase y luego la otra\n",
        "test_under = test_under.sample(frac = 1)"
      ],
      "metadata": {
        "id": "EXL15I_Os-BH"
      },
      "execution_count": null,
      "outputs": []
    },
    {
      "cell_type": "code",
      "source": [
        "#Guardando base de datos balanceada, barajada y con valores de etiqueta binarios (1 \"Benigno\" y 0 \"Maligno\")\n",
        "#Descomentar siguiente celda si quiere guardar la base de datos balanceada\n",
        "#test_under.to_csv(\"/content/gdrive/MyDrive/* Master */2022-2/Deep/Project/CIC2017/Procesada/data_bin_balanceada.csv\", index = False)"
      ],
      "metadata": {
        "id": "eIQZMKiAk8lI"
      },
      "execution_count": null,
      "outputs": []
    }
  ]
}