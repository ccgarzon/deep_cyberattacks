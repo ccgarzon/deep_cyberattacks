{
  "nbformat": 4,
  "nbformat_minor": 0,
  "metadata": {
    "colab": {
      "provenance": []
    },
    "kernelspec": {
      "name": "python3",
      "display_name": "Python 3"
    },
    "language_info": {
      "name": "python"
    }
  },
  "cells": [
    {
      "cell_type": "markdown",
      "source": [
        "CHRISTIAN CAMILO GARZON VASQUEZ\n",
        "\n",
        "\n",
        "---\n",
        "\n",
        "\n",
        "FUNDAMENTOS DE DEEP LEARNING\n",
        "\n",
        "FACULTAD DE INGENIERIA\n",
        "\n",
        "UNIVERSIDAD DE ANTIOQUIA\n",
        "\n",
        "\n",
        "---\n",
        "\n",
        "\n"
      ],
      "metadata": {
        "id": "ZKGkSqAmzHgZ"
      }
    },
    {
      "cell_type": "markdown",
      "source": [
        "#**PRIMER ACERCAMIENTO**\n",
        "#**PERCEPTRON SIMPLE**"
      ],
      "metadata": {
        "id": "bDwznu45wNpz"
      }
    },
    {
      "cell_type": "markdown",
      "source": [
        "**BASADO EN:** https://www.tensorflow.org/tutorials/structured_data/imbalanced_data Y NOTAS DE CLASE"
      ],
      "metadata": {
        "id": "b5TzDwUYwjun"
      }
    },
    {
      "cell_type": "markdown",
      "source": [
        "# 0. LIBRERIAS REQUERIDAS"
      ],
      "metadata": {
        "id": "cla4_6SVyIoe"
      }
    },
    {
      "cell_type": "code",
      "source": [
        "import pandas as pd\n",
        "from sklearn.model_selection import train_test_split\n",
        "import numpy as np\n",
        "from sklearn.preprocessing import StandardScaler\n",
        "import tensorflow as tf\n",
        "from tensorflow import keras\n",
        "from tensorflow.keras.models import Sequential\n",
        "from tensorflow.keras.layers import Dense, Activation, Dropout, Activation\n",
        "import os\n",
        "import tempfile\n",
        "import matplotlib as mpl\n",
        "from matplotlib import pylab as plt\n",
        "from sklearn.metrics import confusion_matrix\n",
        "import seaborn as sns"
      ],
      "metadata": {
        "id": "pHRvFzbiw9hS"
      },
      "execution_count": null,
      "outputs": []
    },
    {
      "cell_type": "markdown",
      "source": [
        "# 1. CARGA DE DATOS Y ANÁLISIS INICIAL"
      ],
      "metadata": {
        "id": "UHEyqMXGxJ1x"
      }
    },
    {
      "cell_type": "code",
      "source": [
        "#Creando DataFrame\n",
        "df = pd.DataFrame()"
      ],
      "metadata": {
        "id": "BBEripA_yYzh"
      },
      "execution_count": null,
      "outputs": []
    },
    {
      "cell_type": "code",
      "source": [
        "#Asegurate de tener el archivo \"data_bin_desbalanceada.csv\" en la misma carpeta\n",
        "df = pd.read_csv('data_bin_desbalanceada.csv')\n",
        "df.head()"
      ],
      "metadata": {
        "colab": {
          "base_uri": "https://localhost:8080/",
          "height": 332
        },
        "id": "fe1YSKwuxMXV",
        "outputId": "118f58c3-40dd-4d1a-d867-e46cb66b8195"
      },
      "execution_count": null,
      "outputs": [
        {
          "output_type": "execute_result",
          "data": {
            "text/plain": [
              "    Destination Port   Flow Duration   Total Fwd Packets  \\\n",
              "0                 80           38308                   1   \n",
              "1                389             479                  11   \n",
              "2                 88            1095                  10   \n",
              "3                389           15206                  17   \n",
              "4                 88            1092                   9   \n",
              "\n",
              "    Total Backward Packets  Total Length of Fwd Packets  \\\n",
              "0                        1                            6   \n",
              "1                        5                          172   \n",
              "2                        6                         3150   \n",
              "3                       12                         3452   \n",
              "4                        6                         3150   \n",
              "\n",
              "    Total Length of Bwd Packets   Fwd Packet Length Max  \\\n",
              "0                             6                       6   \n",
              "1                           326                      79   \n",
              "2                          3150                    1575   \n",
              "3                          6660                    1313   \n",
              "4                          3152                    1575   \n",
              "\n",
              "    Fwd Packet Length Min   Fwd Packet Length Mean   Fwd Packet Length Std  \\\n",
              "0                       6                 6.000000                0.000000   \n",
              "1                       0                15.636364               31.449238   \n",
              "2                       0               315.000000              632.561635   \n",
              "3                       0               203.058823              425.778474   \n",
              "4                       0               350.000000              694.509719   \n",
              "\n",
              "   ...   min_seg_size_forward  Active Mean   Active Std   Active Max  \\\n",
              "0  ...                     20          0.0          0.0            0   \n",
              "1  ...                     32          0.0          0.0            0   \n",
              "2  ...                     32          0.0          0.0            0   \n",
              "3  ...                     32          0.0          0.0            0   \n",
              "4  ...                     32          0.0          0.0            0   \n",
              "\n",
              "    Active Min  Idle Mean   Idle Std   Idle Max   Idle Min   Label  \n",
              "0            0        0.0        0.0          0          0       0  \n",
              "1            0        0.0        0.0          0          0       0  \n",
              "2            0        0.0        0.0          0          0       0  \n",
              "3            0        0.0        0.0          0          0       0  \n",
              "4            0        0.0        0.0          0          0       0  \n",
              "\n",
              "[5 rows x 79 columns]"
            ],
            "text/html": [
              "\n",
              "  <div id=\"df-88b8e67d-eb84-45f3-9158-ac60fe755a1e\">\n",
              "    <div class=\"colab-df-container\">\n",
              "      <div>\n",
              "<style scoped>\n",
              "    .dataframe tbody tr th:only-of-type {\n",
              "        vertical-align: middle;\n",
              "    }\n",
              "\n",
              "    .dataframe tbody tr th {\n",
              "        vertical-align: top;\n",
              "    }\n",
              "\n",
              "    .dataframe thead th {\n",
              "        text-align: right;\n",
              "    }\n",
              "</style>\n",
              "<table border=\"1\" class=\"dataframe\">\n",
              "  <thead>\n",
              "    <tr style=\"text-align: right;\">\n",
              "      <th></th>\n",
              "      <th>Destination Port</th>\n",
              "      <th>Flow Duration</th>\n",
              "      <th>Total Fwd Packets</th>\n",
              "      <th>Total Backward Packets</th>\n",
              "      <th>Total Length of Fwd Packets</th>\n",
              "      <th>Total Length of Bwd Packets</th>\n",
              "      <th>Fwd Packet Length Max</th>\n",
              "      <th>Fwd Packet Length Min</th>\n",
              "      <th>Fwd Packet Length Mean</th>\n",
              "      <th>Fwd Packet Length Std</th>\n",
              "      <th>...</th>\n",
              "      <th>min_seg_size_forward</th>\n",
              "      <th>Active Mean</th>\n",
              "      <th>Active Std</th>\n",
              "      <th>Active Max</th>\n",
              "      <th>Active Min</th>\n",
              "      <th>Idle Mean</th>\n",
              "      <th>Idle Std</th>\n",
              "      <th>Idle Max</th>\n",
              "      <th>Idle Min</th>\n",
              "      <th>Label</th>\n",
              "    </tr>\n",
              "  </thead>\n",
              "  <tbody>\n",
              "    <tr>\n",
              "      <th>0</th>\n",
              "      <td>80</td>\n",
              "      <td>38308</td>\n",
              "      <td>1</td>\n",
              "      <td>1</td>\n",
              "      <td>6</td>\n",
              "      <td>6</td>\n",
              "      <td>6</td>\n",
              "      <td>6</td>\n",
              "      <td>6.000000</td>\n",
              "      <td>0.000000</td>\n",
              "      <td>...</td>\n",
              "      <td>20</td>\n",
              "      <td>0.0</td>\n",
              "      <td>0.0</td>\n",
              "      <td>0</td>\n",
              "      <td>0</td>\n",
              "      <td>0.0</td>\n",
              "      <td>0.0</td>\n",
              "      <td>0</td>\n",
              "      <td>0</td>\n",
              "      <td>0</td>\n",
              "    </tr>\n",
              "    <tr>\n",
              "      <th>1</th>\n",
              "      <td>389</td>\n",
              "      <td>479</td>\n",
              "      <td>11</td>\n",
              "      <td>5</td>\n",
              "      <td>172</td>\n",
              "      <td>326</td>\n",
              "      <td>79</td>\n",
              "      <td>0</td>\n",
              "      <td>15.636364</td>\n",
              "      <td>31.449238</td>\n",
              "      <td>...</td>\n",
              "      <td>32</td>\n",
              "      <td>0.0</td>\n",
              "      <td>0.0</td>\n",
              "      <td>0</td>\n",
              "      <td>0</td>\n",
              "      <td>0.0</td>\n",
              "      <td>0.0</td>\n",
              "      <td>0</td>\n",
              "      <td>0</td>\n",
              "      <td>0</td>\n",
              "    </tr>\n",
              "    <tr>\n",
              "      <th>2</th>\n",
              "      <td>88</td>\n",
              "      <td>1095</td>\n",
              "      <td>10</td>\n",
              "      <td>6</td>\n",
              "      <td>3150</td>\n",
              "      <td>3150</td>\n",
              "      <td>1575</td>\n",
              "      <td>0</td>\n",
              "      <td>315.000000</td>\n",
              "      <td>632.561635</td>\n",
              "      <td>...</td>\n",
              "      <td>32</td>\n",
              "      <td>0.0</td>\n",
              "      <td>0.0</td>\n",
              "      <td>0</td>\n",
              "      <td>0</td>\n",
              "      <td>0.0</td>\n",
              "      <td>0.0</td>\n",
              "      <td>0</td>\n",
              "      <td>0</td>\n",
              "      <td>0</td>\n",
              "    </tr>\n",
              "    <tr>\n",
              "      <th>3</th>\n",
              "      <td>389</td>\n",
              "      <td>15206</td>\n",
              "      <td>17</td>\n",
              "      <td>12</td>\n",
              "      <td>3452</td>\n",
              "      <td>6660</td>\n",
              "      <td>1313</td>\n",
              "      <td>0</td>\n",
              "      <td>203.058823</td>\n",
              "      <td>425.778474</td>\n",
              "      <td>...</td>\n",
              "      <td>32</td>\n",
              "      <td>0.0</td>\n",
              "      <td>0.0</td>\n",
              "      <td>0</td>\n",
              "      <td>0</td>\n",
              "      <td>0.0</td>\n",
              "      <td>0.0</td>\n",
              "      <td>0</td>\n",
              "      <td>0</td>\n",
              "      <td>0</td>\n",
              "    </tr>\n",
              "    <tr>\n",
              "      <th>4</th>\n",
              "      <td>88</td>\n",
              "      <td>1092</td>\n",
              "      <td>9</td>\n",
              "      <td>6</td>\n",
              "      <td>3150</td>\n",
              "      <td>3152</td>\n",
              "      <td>1575</td>\n",
              "      <td>0</td>\n",
              "      <td>350.000000</td>\n",
              "      <td>694.509719</td>\n",
              "      <td>...</td>\n",
              "      <td>32</td>\n",
              "      <td>0.0</td>\n",
              "      <td>0.0</td>\n",
              "      <td>0</td>\n",
              "      <td>0</td>\n",
              "      <td>0.0</td>\n",
              "      <td>0.0</td>\n",
              "      <td>0</td>\n",
              "      <td>0</td>\n",
              "      <td>0</td>\n",
              "    </tr>\n",
              "  </tbody>\n",
              "</table>\n",
              "<p>5 rows × 79 columns</p>\n",
              "</div>\n",
              "      <button class=\"colab-df-convert\" onclick=\"convertToInteractive('df-88b8e67d-eb84-45f3-9158-ac60fe755a1e')\"\n",
              "              title=\"Convert this dataframe to an interactive table.\"\n",
              "              style=\"display:none;\">\n",
              "        \n",
              "  <svg xmlns=\"http://www.w3.org/2000/svg\" height=\"24px\"viewBox=\"0 0 24 24\"\n",
              "       width=\"24px\">\n",
              "    <path d=\"M0 0h24v24H0V0z\" fill=\"none\"/>\n",
              "    <path d=\"M18.56 5.44l.94 2.06.94-2.06 2.06-.94-2.06-.94-.94-2.06-.94 2.06-2.06.94zm-11 1L8.5 8.5l.94-2.06 2.06-.94-2.06-.94L8.5 2.5l-.94 2.06-2.06.94zm10 10l.94 2.06.94-2.06 2.06-.94-2.06-.94-.94-2.06-.94 2.06-2.06.94z\"/><path d=\"M17.41 7.96l-1.37-1.37c-.4-.4-.92-.59-1.43-.59-.52 0-1.04.2-1.43.59L10.3 9.45l-7.72 7.72c-.78.78-.78 2.05 0 2.83L4 21.41c.39.39.9.59 1.41.59.51 0 1.02-.2 1.41-.59l7.78-7.78 2.81-2.81c.8-.78.8-2.07 0-2.86zM5.41 20L4 18.59l7.72-7.72 1.47 1.35L5.41 20z\"/>\n",
              "  </svg>\n",
              "      </button>\n",
              "      \n",
              "  <style>\n",
              "    .colab-df-container {\n",
              "      display:flex;\n",
              "      flex-wrap:wrap;\n",
              "      gap: 12px;\n",
              "    }\n",
              "\n",
              "    .colab-df-convert {\n",
              "      background-color: #E8F0FE;\n",
              "      border: none;\n",
              "      border-radius: 50%;\n",
              "      cursor: pointer;\n",
              "      display: none;\n",
              "      fill: #1967D2;\n",
              "      height: 32px;\n",
              "      padding: 0 0 0 0;\n",
              "      width: 32px;\n",
              "    }\n",
              "\n",
              "    .colab-df-convert:hover {\n",
              "      background-color: #E2EBFA;\n",
              "      box-shadow: 0px 1px 2px rgba(60, 64, 67, 0.3), 0px 1px 3px 1px rgba(60, 64, 67, 0.15);\n",
              "      fill: #174EA6;\n",
              "    }\n",
              "\n",
              "    [theme=dark] .colab-df-convert {\n",
              "      background-color: #3B4455;\n",
              "      fill: #D2E3FC;\n",
              "    }\n",
              "\n",
              "    [theme=dark] .colab-df-convert:hover {\n",
              "      background-color: #434B5C;\n",
              "      box-shadow: 0px 1px 3px 1px rgba(0, 0, 0, 0.15);\n",
              "      filter: drop-shadow(0px 1px 2px rgba(0, 0, 0, 0.3));\n",
              "      fill: #FFFFFF;\n",
              "    }\n",
              "  </style>\n",
              "\n",
              "      <script>\n",
              "        const buttonEl =\n",
              "          document.querySelector('#df-88b8e67d-eb84-45f3-9158-ac60fe755a1e button.colab-df-convert');\n",
              "        buttonEl.style.display =\n",
              "          google.colab.kernel.accessAllowed ? 'block' : 'none';\n",
              "\n",
              "        async function convertToInteractive(key) {\n",
              "          const element = document.querySelector('#df-88b8e67d-eb84-45f3-9158-ac60fe755a1e');\n",
              "          const dataTable =\n",
              "            await google.colab.kernel.invokeFunction('convertToInteractive',\n",
              "                                                     [key], {});\n",
              "          if (!dataTable) return;\n",
              "\n",
              "          const docLinkHtml = 'Like what you see? Visit the ' +\n",
              "            '<a target=\"_blank\" href=https://colab.research.google.com/notebooks/data_table.ipynb>data table notebook</a>'\n",
              "            + ' to learn more about interactive tables.';\n",
              "          element.innerHTML = '';\n",
              "          dataTable['output_type'] = 'display_data';\n",
              "          await google.colab.output.renderOutput(dataTable, element);\n",
              "          const docLink = document.createElement('div');\n",
              "          docLink.innerHTML = docLinkHtml;\n",
              "          element.appendChild(docLink);\n",
              "        }\n",
              "      </script>\n",
              "    </div>\n",
              "  </div>\n",
              "  "
            ]
          },
          "metadata": {},
          "execution_count": 3
        }
      ]
    },
    {
      "cell_type": "markdown",
      "source": [
        "#2. DIVIDIENDO DATASET ENTRE CONJUNTOS DE ENTRENO, TESTEO Y VALIDACION\n",
        "\n"
      ],
      "metadata": {
        "id": "IeNXkg3a0g-T"
      }
    },
    {
      "cell_type": "code",
      "source": [
        "df = df[~df.isin([np.nan, np.inf, -np.inf]).any(1)] #Evitando valores NaN e inf \n",
        "\n",
        "#Usando sklearn para dividir dataset cargado\n",
        "train_df, test_df = train_test_split(df, test_size=0.2)\n",
        "train_df, val_df = train_test_split(train_df, test_size=0.2)\n",
        "\n",
        "#Tomando características y etiquetas de los arrays Form np arrays of labels and features\n",
        "train_labels = np.array(train_df.pop(' Label')) #Tomando etiquetas de entrenamiento\n",
        "bool_train_labels = train_labels != 0\n",
        "val_labels = np.array(val_df.pop(' Label')) #Tomando etiquetas de validacion\n",
        "test_labels = np.array(test_df.pop(' Label')) #Tomando etiquetas de testeo\n",
        "\n",
        "train_features = np.array(train_df) #Tomando caracteristícas de entrenamiento\n",
        "val_features = np.array(val_df) #Tomando caracteristícas de validación\n",
        "test_features = np.array(test_df) #Tomando caracteristícas de testeo"
      ],
      "metadata": {
        "id": "QSL5jbaX5BNo"
      },
      "execution_count": null,
      "outputs": []
    },
    {
      "cell_type": "code",
      "source": [
        "scaler = StandardScaler() #Normalizar datos\n",
        "train_features = scaler.fit_transform(train_features) #Escalar datos de entrenamiento y aprender parámetros de escalado.\n",
        "\n",
        "val_features = scaler.transform(val_features) #Se usa la misma media y varianza de entrenamiento para validación\n",
        "test_features = scaler.transform(test_features) #Se usa la misma media y varianza de entrenamiento para testeo\n",
        "\n",
        "print('Training labels shape:', train_labels.shape)\n",
        "print('Validation labels shape:', val_labels.shape)\n",
        "print('Test labels shape:', test_labels.shape)\n",
        "print(\"------------------------------------------\")\n",
        "print('Training features shape:', train_features.shape)\n",
        "print('Validation features shape:', val_features.shape)\n",
        "print('Test features shape:', test_features.shape)"
      ],
      "metadata": {
        "colab": {
          "base_uri": "https://localhost:8080/"
        },
        "id": "moo8obQB9lWg",
        "outputId": "bc65acaf-d773-414e-9c87-d97919a6b4d7"
      },
      "execution_count": null,
      "outputs": [
        {
          "output_type": "stream",
          "name": "stdout",
          "text": [
            "Training labels shape: (1809840,)\n",
            "Validation labels shape: (452460,)\n",
            "Test labels shape: (565576,)\n",
            "------------------------------------------\n",
            "Training features shape: (1809840, 78)\n",
            "Validation features shape: (452460, 78)\n",
            "Test features shape: (565576, 78)\n"
          ]
        }
      ]
    },
    {
      "cell_type": "markdown",
      "source": [
        "#3. ENSAMBLAJE DEL MODELO"
      ],
      "metadata": {
        "id": "ZXa6E80P6119"
      }
    },
    {
      "cell_type": "code",
      "source": [
        "#Métricas a evaluar en el modelo\n",
        "METRICS = [\n",
        "      keras.metrics.TruePositives(name='tp'),\n",
        "      keras.metrics.FalsePositives(name='fp'),\n",
        "      keras.metrics.TrueNegatives(name='tn'),\n",
        "      keras.metrics.FalseNegatives(name='fn'), \n",
        "      keras.metrics.BinaryAccuracy(name='accuracy'),\n",
        "      keras.metrics.Precision(name='precision'),\n",
        "      keras.metrics.Recall(name='recall'),\n",
        "      keras.metrics.AUC(name='auc'),\n",
        "      keras.metrics.AUC(name='prc', curve='PR'),\n",
        "]"
      ],
      "metadata": {
        "id": "1HoiXfbU9xK3"
      },
      "execution_count": null,
      "outputs": []
    },
    {
      "cell_type": "code",
      "source": [
        "def make_model(metrics=METRICS, output_bias=None):\n",
        "\n",
        "  if output_bias is not None:\n",
        "    output_bias = tf.keras.initializers.Constant(output_bias)\n",
        "\n",
        "  model = Sequential()\n",
        "  model.add(Dense(units=40, input_shape=(train_features.shape[-1],))) #(79, 1)\n",
        "  model.add(Dropout(0.5))   \n",
        "  model.add(Dense(1, activation=\"sigmoid\", bias_initializer=output_bias))\n",
        "  model.compile(optimizer=keras.optimizers.Adam(learning_rate=1e-3), loss=keras.losses.BinaryCrossentropy(), metrics=METRICS)\n",
        "\n",
        "  return model\n",
        "\n",
        "model = make_model()\n",
        "model.summary()"
      ],
      "metadata": {
        "colab": {
          "base_uri": "https://localhost:8080/"
        },
        "id": "3c3v_I8CcQXV",
        "outputId": "baca3648-8ab8-42d6-f124-18f97db0a819"
      },
      "execution_count": null,
      "outputs": [
        {
          "output_type": "stream",
          "name": "stdout",
          "text": [
            "Model: \"sequential\"\n",
            "_________________________________________________________________\n",
            " Layer (type)                Output Shape              Param #   \n",
            "=================================================================\n",
            " dense (Dense)               (None, 40)                3160      \n",
            "                                                                 \n",
            " dropout (Dropout)           (None, 40)                0         \n",
            "                                                                 \n",
            " dense_1 (Dense)             (None, 1)                 41        \n",
            "                                                                 \n",
            "=================================================================\n",
            "Total params: 3,201\n",
            "Trainable params: 3,201\n",
            "Non-trainable params: 0\n",
            "_________________________________________________________________\n"
          ]
        }
      ]
    },
    {
      "cell_type": "code",
      "source": [
        "#Configurando EARLY STOPPING\n",
        "\n",
        "EPOCHS = 100\n",
        "BATCH_SIZE = 2048\n",
        "\n",
        "early_stopping = tf.keras.callbacks.EarlyStopping( #Aplicando early stopping evitando caer procesamiento inecesario\n",
        "    monitor='val_prc', \n",
        "    verbose=1,\n",
        "    patience=10,\n",
        "    mode='max',\n",
        "    restore_best_weights=True)"
      ],
      "metadata": {
        "id": "jLGU3yf-bhqU"
      },
      "execution_count": null,
      "outputs": []
    },
    {
      "cell_type": "markdown",
      "source": [
        "# 4. EVALUACION DEL SESGO"
      ],
      "metadata": {
        "id": "SmbW6Rf9jSiQ"
      }
    },
    {
      "cell_type": "code",
      "source": [
        "#Prediciendo primeros 10 elmentos sin sesgo\n",
        "model = make_model()\n",
        "model.predict(train_features[:10])"
      ],
      "metadata": {
        "colab": {
          "base_uri": "https://localhost:8080/"
        },
        "id": "Ec8dkbZ8cR3L",
        "outputId": "9f0baed2-6503-446f-a52c-97260154ab87"
      },
      "execution_count": null,
      "outputs": [
        {
          "output_type": "stream",
          "name": "stdout",
          "text": [
            "1/1 [==============================] - 0s 23ms/step\n"
          ]
        },
        {
          "output_type": "execute_result",
          "data": {
            "text/plain": [
              "array([[0.28370434],\n",
              "       [0.29397246],\n",
              "       [0.0894629 ],\n",
              "       [0.02355924],\n",
              "       [0.27945656],\n",
              "       [0.24732086],\n",
              "       [0.5814135 ],\n",
              "       [0.26768667],\n",
              "       [0.29285944],\n",
              "       [0.20601483]], dtype=float32)"
            ]
          },
          "metadata": {},
          "execution_count": 83
        }
      ]
    },
    {
      "cell_type": "code",
      "source": [
        "#Evaluando perdida del modelo\n",
        "results = model.evaluate(train_features, train_labels, batch_size=BATCH_SIZE, verbose=0)\n",
        "print(\"Loss: {:0.4f}\".format(results[0]))"
      ],
      "metadata": {
        "colab": {
          "base_uri": "https://localhost:8080/"
        },
        "id": "UfHoTEWTcV01",
        "outputId": "fc77a700-17e8-4e80-a339-e26c3eafc12b"
      },
      "execution_count": null,
      "outputs": [
        {
          "output_type": "stream",
          "name": "stdout",
          "text": [
            "Loss: 0.6191\n"
          ]
        }
      ]
    },
    {
      "cell_type": "code",
      "source": [
        "#Desequilibrio de la base de datos\n",
        "neg, pos = np.bincount(df[' Label'])\n",
        "total = neg + pos\n",
        "print('Examples:\\n    Total: {}\\n    1: {} ({:.2f}% of total)\\n    0: {} ({:.2f}% of total)\\n'.format(\n",
        "    total, pos, 100 * pos / total, neg, 100 * neg / total))\n"
      ],
      "metadata": {
        "colab": {
          "base_uri": "https://localhost:8080/"
        },
        "id": "i5pJC6OOhMUx",
        "outputId": "804ec369-b3c0-42e9-9d10-6606e3747c03"
      },
      "execution_count": null,
      "outputs": [
        {
          "output_type": "stream",
          "name": "stdout",
          "text": [
            "Examples:\n",
            "    Total: 2827876\n",
            "    1: 556556 (19.68% of total)\n",
            "    0: 2271320 (80.32% of total)\n",
            "\n"
          ]
        }
      ]
    },
    {
      "cell_type": "code",
      "source": [
        "#Fracción de sesgo inicial\n",
        "initial_bias = np.log([pos/neg])\n",
        "initial_bias"
      ],
      "metadata": {
        "colab": {
          "base_uri": "https://localhost:8080/"
        },
        "id": "VYzHPOCCccCM",
        "outputId": "b026473e-6ce1-40d5-95cf-6fafbfe0a3e9"
      },
      "execution_count": null,
      "outputs": [
        {
          "output_type": "execute_result",
          "data": {
            "text/plain": [
              "array([-1.40634864])"
            ]
          },
          "metadata": {},
          "execution_count": 10
        }
      ]
    },
    {
      "cell_type": "code",
      "source": [
        "#Modelo en base al sesgo inicial\n",
        "model2 = make_model(output_bias=initial_bias)\n",
        "model2.predict(train_features[:10])"
      ],
      "metadata": {
        "colab": {
          "base_uri": "https://localhost:8080/"
        },
        "id": "9WRUGa7pcfRM",
        "outputId": "06471e6c-259c-4f35-8ca7-40ac64fbabd6"
      },
      "execution_count": null,
      "outputs": [
        {
          "output_type": "stream",
          "name": "stdout",
          "text": [
            "1/1 [==============================] - 0s 94ms/step\n"
          ]
        },
        {
          "output_type": "execute_result",
          "data": {
            "text/plain": [
              "array([[0.21592224],\n",
              "       [0.24083751],\n",
              "       [0.06906107],\n",
              "       [0.31791225],\n",
              "       [0.5065465 ],\n",
              "       [0.06603681],\n",
              "       [0.23002325],\n",
              "       [0.31015736],\n",
              "       [0.14022   ],\n",
              "       [0.21135165]], dtype=float32)"
            ]
          },
          "metadata": {},
          "execution_count": 11
        }
      ]
    },
    {
      "cell_type": "code",
      "source": [
        "#Evaluando perdida del modelo con sesgo\n",
        "results = model2.evaluate(train_features, train_labels, batch_size=BATCH_SIZE, verbose=0)\n",
        "print(\"Loss: {:0.4f}\".format(results[0]))"
      ],
      "metadata": {
        "colab": {
          "base_uri": "https://localhost:8080/"
        },
        "id": "fmyBOW2tchuk",
        "outputId": "086fb5ae-692f-4ea8-aa2d-88d2309885c3"
      },
      "execution_count": null,
      "outputs": [
        {
          "output_type": "stream",
          "name": "stdout",
          "text": [
            "Loss: 0.5967\n"
          ]
        }
      ]
    },
    {
      "cell_type": "code",
      "source": [
        "#Guardando pesos\n",
        "initial_weights = os.path.join(tempfile.mkdtemp(), 'initial_weights')\n",
        "model2.save_weights(initial_weights)"
      ],
      "metadata": {
        "id": "kU0j4UWnckrc"
      },
      "execution_count": null,
      "outputs": []
    },
    {
      "cell_type": "code",
      "source": [
        "#Entrenando modelo\n",
        "model3 = make_model()\n",
        "model3.load_weights(initial_weights)\n",
        "model3.layers[-1].bias.assign([0.0]) #Inicializando sesgo con 0s\n",
        "zero_bias_history = model.fit(\n",
        "    train_features,\n",
        "    train_labels,\n",
        "    batch_size=BATCH_SIZE,\n",
        "    epochs=20,\n",
        "    validation_data=(val_features, val_labels), \n",
        "    verbose=0)\n"
      ],
      "metadata": {
        "id": "gv3hkEO6co8c"
      },
      "execution_count": null,
      "outputs": []
    },
    {
      "cell_type": "code",
      "source": [
        "model3 = make_model()\n",
        "model3.load_weights(initial_weights)\n",
        "careful_bias_history = model.fit(\n",
        "    train_features,\n",
        "    train_labels,\n",
        "    batch_size=BATCH_SIZE,\n",
        "    epochs=20,\n",
        "    validation_data=(val_features, val_labels), \n",
        "    verbose=0)\n"
      ],
      "metadata": {
        "id": "1f6DOS8HdPqD"
      },
      "execution_count": null,
      "outputs": []
    },
    {
      "cell_type": "code",
      "source": [
        "mpl.rcParams['figure.figsize'] = (12, 10)\n",
        "colors = plt.rcParams['axes.prop_cycle'].by_key()['color']\n",
        "\n",
        "def plot_loss(history, label, n):\n",
        "  plt.semilogy(history.epoch, history.history['loss'],\n",
        "               color=colors[n], label='Train ' + label)\n",
        "  plt.semilogy(history.epoch, history.history['val_loss'],\n",
        "               color=colors[n], label='Val ' + label,\n",
        "               linestyle=\"--\")\n",
        "  plt.xlabel('Epoch')\n",
        "  plt.ylabel('Loss')\n",
        "  plt.legend()\n",
        "\n",
        "plot_loss(zero_bias_history, \"Zero Bias\", 0)\n",
        "plot_loss(careful_bias_history, \"Careful Bias\", 1)"
      ],
      "metadata": {
        "colab": {
          "base_uri": "https://localhost:8080/",
          "height": 606
        },
        "id": "_X2ErH0xd7Oz",
        "outputId": "56ea4032-717f-42b4-9270-f5b26d5c76a2"
      },
      "execution_count": null,
      "outputs": [
        {
          "output_type": "display_data",
          "data": {
            "text/plain": [
              "<Figure size 864x720 with 1 Axes>"
            ],
            "image/png": "[encoded data removed]"
          },
          "metadata": {
            "needs_background": "light"
          }
        }
      ]
    },
    {
      "cell_type": "markdown",
      "source": [
        "# 5. Entrenamiento del modelo y métricas de evaluación"
      ],
      "metadata": {
        "id": "nRv4W3dMtZVy"
      }
    },
    {
      "cell_type": "code",
      "source": [
        "#Creación y ejecución del modelo\n",
        "model = make_model()\n",
        "model.load_weights(initial_weights)\n",
        "baseline_history = model.fit(\n",
        "    train_features,\n",
        "    train_labels,\n",
        "    batch_size=BATCH_SIZE,\n",
        "    epochs=EPOCHS,\n",
        "    callbacks=[early_stopping],\n",
        "    validation_data=(val_features, val_labels))"
      ],
      "metadata": {
        "colab": {
          "base_uri": "https://localhost:8080/"
        },
        "id": "0YTqmdTSednU",
        "outputId": "7afac8ae-f171-486c-e3aa-44c61b5b4def"
      },
      "execution_count": null,
      "outputs": [
        {
          "output_type": "stream",
          "name": "stdout",
          "text": [
            "Epoch 1/100\n",
            "884/884 [==============================] - 10s 9ms/step - loss: 0.2122 - tp: 323053.0000 - fp: 65414.0000 - tn: 1751507.0000 - fn: 122326.0000 - accuracy: 0.9170 - precision: 0.8316 - recall: 0.7253 - auc: 0.9632 - prc: 0.8810 - val_loss: 0.1658 - val_tp: 72188.0000 - val_fp: 12718.0000 - val_tn: 350949.0000 - val_fn: 16605.0000 - val_accuracy: 0.9352 - val_precision: 0.8502 - val_recall: 0.8130 - val_auc: 0.9738 - val_prc: 0.9082\n",
            "Epoch 2/100\n",
            "884/884 [==============================] - 5s 6ms/step - loss: 0.1679 - tp: 281547.0000 - fp: 54098.0000 - tn: 1399156.0000 - fn: 75039.0000 - accuracy: 0.9286 - precision: 0.8388 - recall: 0.7896 - auc: 0.9735 - prc: 0.9085 - val_loss: 0.1585 - val_tp: 73341.0000 - val_fp: 13434.0000 - val_tn: 350233.0000 - val_fn: 15452.0000 - val_accuracy: 0.9362 - val_precision: 0.8452 - val_recall: 0.8260 - val_auc: 0.9762 - val_prc: 0.9174\n",
            "Epoch 3/100\n",
            "884/884 [==============================] - 5s 5ms/step - loss: 0.1620 - tp: 286214.0000 - fp: 55250.0000 - tn: 1398004.0000 - fn: 70372.0000 - accuracy: 0.9306 - precision: 0.8382 - recall: 0.8027 - auc: 0.9751 - prc: 0.9137 - val_loss: 0.1554 - val_tp: 72242.0000 - val_fp: 12651.0000 - val_tn: 351016.0000 - val_fn: 16551.0000 - val_accuracy: 0.9355 - val_precision: 0.8510 - val_recall: 0.8136 - val_auc: 0.9769 - val_prc: 0.9193\n",
            "Epoch 4/100\n",
            "884/884 [==============================] - 4s 5ms/step - loss: 0.1594 - tp: 287522.0000 - fp: 55155.0000 - tn: 1398099.0000 - fn: 69064.0000 - accuracy: 0.9314 - precision: 0.8390 - recall: 0.8063 - auc: 0.9756 - prc: 0.9157 - val_loss: 0.1545 - val_tp: 73105.0000 - val_fp: 12647.0000 - val_tn: 351020.0000 - val_fn: 15688.0000 - val_accuracy: 0.9374 - val_precision: 0.8525 - val_recall: 0.8233 - val_auc: 0.9770 - val_prc: 0.9201\n",
            "Epoch 5/100\n",
            "884/884 [==============================] - 4s 5ms/step - loss: 0.1582 - tp: 288906.0000 - fp: 54749.0000 - tn: 1398505.0000 - fn: 67680.0000 - accuracy: 0.9324 - precision: 0.8407 - recall: 0.8102 - auc: 0.9759 - prc: 0.9171 - val_loss: 0.1535 - val_tp: 73377.0000 - val_fp: 12767.0000 - val_tn: 350900.0000 - val_fn: 15416.0000 - val_accuracy: 0.9377 - val_precision: 0.8518 - val_recall: 0.8264 - val_auc: 0.9777 - val_prc: 0.9221\n",
            "Epoch 6/100\n",
            "884/884 [==============================] - 4s 5ms/step - loss: 0.1572 - tp: 290007.0000 - fp: 54639.0000 - tn: 1398615.0000 - fn: 66579.0000 - accuracy: 0.9330 - precision: 0.8415 - recall: 0.8133 - auc: 0.9761 - prc: 0.9178 - val_loss: 0.1532 - val_tp: 73902.0000 - val_fp: 12425.0000 - val_tn: 351242.0000 - val_fn: 14891.0000 - val_accuracy: 0.9396 - val_precision: 0.8561 - val_recall: 0.8323 - val_auc: 0.9777 - val_prc: 0.9223\n",
            "Epoch 7/100\n",
            "884/884 [==============================] - 5s 6ms/step - loss: 0.1568 - tp: 290565.0000 - fp: 53970.0000 - tn: 1399284.0000 - fn: 66021.0000 - accuracy: 0.9337 - precision: 0.8434 - recall: 0.8149 - auc: 0.9765 - prc: 0.9185 - val_loss: 0.1522 - val_tp: 73882.0000 - val_fp: 12739.0000 - val_tn: 350928.0000 - val_fn: 14911.0000 - val_accuracy: 0.9389 - val_precision: 0.8529 - val_recall: 0.8321 - val_auc: 0.9779 - val_prc: 0.9221\n",
            "Epoch 8/100\n",
            "884/884 [==============================] - 4s 5ms/step - loss: 0.1559 - tp: 291057.0000 - fp: 53784.0000 - tn: 1399470.0000 - fn: 65529.0000 - accuracy: 0.9341 - precision: 0.8440 - recall: 0.8162 - auc: 0.9767 - prc: 0.9190 - val_loss: 0.1521 - val_tp: 71969.0000 - val_fp: 12797.0000 - val_tn: 350870.0000 - val_fn: 16824.0000 - val_accuracy: 0.9345 - val_precision: 0.8490 - val_recall: 0.8105 - val_auc: 0.9781 - val_prc: 0.9232\n",
            "Epoch 9/100\n",
            "884/884 [==============================] - 5s 6ms/step - loss: 0.1554 - tp: 291805.0000 - fp: 53621.0000 - tn: 1399633.0000 - fn: 64781.0000 - accuracy: 0.9346 - precision: 0.8448 - recall: 0.8183 - auc: 0.9770 - prc: 0.9196 - val_loss: 0.1519 - val_tp: 74785.0000 - val_fp: 12993.0000 - val_tn: 350674.0000 - val_fn: 14008.0000 - val_accuracy: 0.9403 - val_precision: 0.8520 - val_recall: 0.8422 - val_auc: 0.9783 - val_prc: 0.9235\n",
            "Epoch 10/100\n",
            "884/884 [==============================] - 5s 6ms/step - loss: 0.1549 - tp: 292385.0000 - fp: 53387.0000 - tn: 1399867.0000 - fn: 64201.0000 - accuracy: 0.9350 - precision: 0.8456 - recall: 0.8200 - auc: 0.9772 - prc: 0.9199 - val_loss: 0.1511 - val_tp: 71807.0000 - val_fp: 12506.0000 - val_tn: 351161.0000 - val_fn: 16986.0000 - val_accuracy: 0.9348 - val_precision: 0.8517 - val_recall: 0.8087 - val_auc: 0.9783 - val_prc: 0.9233\n",
            "Epoch 11/100\n",
            "884/884 [==============================] - 4s 5ms/step - loss: 0.1541 - tp: 292431.0000 - fp: 52842.0000 - tn: 1400412.0000 - fn: 64155.0000 - accuracy: 0.9354 - precision: 0.8470 - recall: 0.8201 - auc: 0.9773 - prc: 0.9203 - val_loss: 0.1513 - val_tp: 78358.0000 - val_fp: 16564.0000 - val_tn: 347103.0000 - val_fn: 10435.0000 - val_accuracy: 0.9403 - val_precision: 0.8255 - val_recall: 0.8825 - val_auc: 0.9784 - val_prc: 0.9239\n",
            "Epoch 12/100\n",
            "884/884 [==============================] - 5s 6ms/step - loss: 0.1538 - tp: 292819.0000 - fp: 52828.0000 - tn: 1400426.0000 - fn: 63767.0000 - accuracy: 0.9356 - precision: 0.8472 - recall: 0.8212 - auc: 0.9775 - prc: 0.9207 - val_loss: 0.1506 - val_tp: 74926.0000 - val_fp: 12634.0000 - val_tn: 351033.0000 - val_fn: 13867.0000 - val_accuracy: 0.9414 - val_precision: 0.8557 - val_recall: 0.8438 - val_auc: 0.9788 - val_prc: 0.9254\n",
            "Epoch 13/100\n",
            "884/884 [==============================] - 4s 5ms/step - loss: 0.1536 - tp: 292767.0000 - fp: 52565.0000 - tn: 1400689.0000 - fn: 63819.0000 - accuracy: 0.9357 - precision: 0.8478 - recall: 0.8210 - auc: 0.9776 - prc: 0.9210 - val_loss: 0.1505 - val_tp: 69419.0000 - val_fp: 12348.0000 - val_tn: 351319.0000 - val_fn: 19374.0000 - val_accuracy: 0.9299 - val_precision: 0.8490 - val_recall: 0.7818 - val_auc: 0.9790 - val_prc: 0.9256\n",
            "Epoch 14/100\n",
            "884/884 [==============================] - 5s 6ms/step - loss: 0.1534 - tp: 293170.0000 - fp: 52759.0000 - tn: 1400495.0000 - fn: 63416.0000 - accuracy: 0.9358 - precision: 0.8475 - recall: 0.8222 - auc: 0.9776 - prc: 0.9212 - val_loss: 0.1500 - val_tp: 74885.0000 - val_fp: 12653.0000 - val_tn: 351014.0000 - val_fn: 13908.0000 - val_accuracy: 0.9413 - val_precision: 0.8555 - val_recall: 0.8434 - val_auc: 0.9788 - val_prc: 0.9249\n",
            "Epoch 15/100\n",
            "884/884 [==============================] - 4s 5ms/step - loss: 0.1533 - tp: 293900.0000 - fp: 52581.0000 - tn: 1400673.0000 - fn: 62686.0000 - accuracy: 0.9363 - precision: 0.8482 - recall: 0.8242 - auc: 0.9778 - prc: 0.9217 - val_loss: 0.1500 - val_tp: 75456.0000 - val_fp: 13534.0000 - val_tn: 350133.0000 - val_fn: 13337.0000 - val_accuracy: 0.9406 - val_precision: 0.8479 - val_recall: 0.8498 - val_auc: 0.9790 - val_prc: 0.9258\n",
            "Epoch 16/100\n",
            "884/884 [==============================] - 5s 5ms/step - loss: 0.1536 - tp: 293882.0000 - fp: 52302.0000 - tn: 1400952.0000 - fn: 62704.0000 - accuracy: 0.9365 - precision: 0.8489 - recall: 0.8242 - auc: 0.9779 - prc: 0.9219 - val_loss: 0.1495 - val_tp: 75040.0000 - val_fp: 12642.0000 - val_tn: 351025.0000 - val_fn: 13753.0000 - val_accuracy: 0.9417 - val_precision: 0.8558 - val_recall: 0.8451 - val_auc: 0.9788 - val_prc: 0.9240\n",
            "Epoch 17/100\n",
            "884/884 [==============================] - 5s 6ms/step - loss: 0.1531 - tp: 293714.0000 - fp: 52401.0000 - tn: 1400853.0000 - fn: 62872.0000 - accuracy: 0.9363 - precision: 0.8486 - recall: 0.8237 - auc: 0.9779 - prc: 0.9220 - val_loss: 0.1501 - val_tp: 69595.0000 - val_fp: 12452.0000 - val_tn: 351215.0000 - val_fn: 19198.0000 - val_accuracy: 0.9300 - val_precision: 0.8482 - val_recall: 0.7838 - val_auc: 0.9792 - val_prc: 0.9259\n",
            "Epoch 18/100\n",
            "884/884 [==============================] - 5s 6ms/step - loss: 0.1534 - tp: 293379.0000 - fp: 52048.0000 - tn: 1401206.0000 - fn: 63207.0000 - accuracy: 0.9363 - precision: 0.8493 - recall: 0.8227 - auc: 0.9780 - prc: 0.9220 - val_loss: 0.1495 - val_tp: 71842.0000 - val_fp: 12065.0000 - val_tn: 351602.0000 - val_fn: 16951.0000 - val_accuracy: 0.9359 - val_precision: 0.8562 - val_recall: 0.8091 - val_auc: 0.9793 - val_prc: 0.9261\n",
            "Epoch 19/100\n",
            "884/884 [==============================] - 5s 6ms/step - loss: 0.1527 - tp: 294277.0000 - fp: 51851.0000 - tn: 1401403.0000 - fn: 62309.0000 - accuracy: 0.9369 - precision: 0.8502 - recall: 0.8253 - auc: 0.9781 - prc: 0.9226 - val_loss: 0.1491 - val_tp: 73983.0000 - val_fp: 12757.0000 - val_tn: 350910.0000 - val_fn: 14810.0000 - val_accuracy: 0.9391 - val_precision: 0.8529 - val_recall: 0.8332 - val_auc: 0.9791 - val_prc: 0.9258\n",
            "Epoch 20/100\n",
            "884/884 [==============================] - 5s 5ms/step - loss: 0.1524 - tp: 294581.0000 - fp: 52216.0000 - tn: 1401038.0000 - fn: 62005.0000 - accuracy: 0.9369 - precision: 0.8494 - recall: 0.8261 - auc: 0.9782 - prc: 0.9227 - val_loss: 0.1492 - val_tp: 74523.0000 - val_fp: 12153.0000 - val_tn: 351514.0000 - val_fn: 14270.0000 - val_accuracy: 0.9416 - val_precision: 0.8598 - val_recall: 0.8393 - val_auc: 0.9792 - val_prc: 0.9257\n",
            "Epoch 21/100\n",
            "884/884 [==============================] - 4s 5ms/step - loss: 0.1518 - tp: 294695.0000 - fp: 52113.0000 - tn: 1401141.0000 - fn: 61891.0000 - accuracy: 0.9370 - precision: 0.8497 - recall: 0.8264 - auc: 0.9783 - prc: 0.9230 - val_loss: 0.1491 - val_tp: 72046.0000 - val_fp: 12397.0000 - val_tn: 351270.0000 - val_fn: 16747.0000 - val_accuracy: 0.9356 - val_precision: 0.8532 - val_recall: 0.8114 - val_auc: 0.9792 - val_prc: 0.9256\n",
            "Epoch 22/100\n",
            "884/884 [==============================] - 5s 5ms/step - loss: 0.1518 - tp: 294724.0000 - fp: 52061.0000 - tn: 1401193.0000 - fn: 61862.0000 - accuracy: 0.9371 - precision: 0.8499 - recall: 0.8265 - auc: 0.9783 - prc: 0.9230 - val_loss: 0.1485 - val_tp: 75173.0000 - val_fp: 13027.0000 - val_tn: 350640.0000 - val_fn: 13620.0000 - val_accuracy: 0.9411 - val_precision: 0.8523 - val_recall: 0.8466 - val_auc: 0.9794 - val_prc: 0.9264\n",
            "Epoch 23/100\n",
            "884/884 [==============================] - 4s 5ms/step - loss: 0.1524 - tp: 294810.0000 - fp: 51983.0000 - tn: 1401271.0000 - fn: 61776.0000 - accuracy: 0.9371 - precision: 0.8501 - recall: 0.8268 - auc: 0.9784 - prc: 0.9233 - val_loss: 0.1486 - val_tp: 75358.0000 - val_fp: 13198.0000 - val_tn: 350469.0000 - val_fn: 13435.0000 - val_accuracy: 0.9411 - val_precision: 0.8510 - val_recall: 0.8487 - val_auc: 0.9796 - val_prc: 0.9274\n",
            "Epoch 24/100\n",
            "884/884 [==============================] - 4s 5ms/step - loss: 0.1523 - tp: 294321.0000 - fp: 51866.0000 - tn: 1401388.0000 - fn: 62265.0000 - accuracy: 0.9369 - precision: 0.8502 - recall: 0.8254 - auc: 0.9783 - prc: 0.9232 - val_loss: 0.1483 - val_tp: 72895.0000 - val_fp: 12451.0000 - val_tn: 351216.0000 - val_fn: 15898.0000 - val_accuracy: 0.9373 - val_precision: 0.8541 - val_recall: 0.8210 - val_auc: 0.9796 - val_prc: 0.9272\n",
            "Epoch 25/100\n",
            "884/884 [==============================] - 5s 5ms/step - loss: 0.1518 - tp: 295355.0000 - fp: 51982.0000 - tn: 1401272.0000 - fn: 61231.0000 - accuracy: 0.9374 - precision: 0.8503 - recall: 0.8283 - auc: 0.9785 - prc: 0.9235 - val_loss: 0.1483 - val_tp: 74478.0000 - val_fp: 12625.0000 - val_tn: 351042.0000 - val_fn: 14315.0000 - val_accuracy: 0.9405 - val_precision: 0.8551 - val_recall: 0.8388 - val_auc: 0.9795 - val_prc: 0.9266\n",
            "Epoch 26/100\n",
            "884/884 [==============================] - 4s 5ms/step - loss: 0.1518 - tp: 295356.0000 - fp: 52249.0000 - tn: 1401005.0000 - fn: 61230.0000 - accuracy: 0.9373 - precision: 0.8497 - recall: 0.8283 - auc: 0.9785 - prc: 0.9237 - val_loss: 0.1481 - val_tp: 75492.0000 - val_fp: 13277.0000 - val_tn: 350390.0000 - val_fn: 13301.0000 - val_accuracy: 0.9413 - val_precision: 0.8504 - val_recall: 0.8502 - val_auc: 0.9795 - val_prc: 0.9265\n",
            "Epoch 27/100\n",
            "884/884 [==============================] - 5s 5ms/step - loss: 0.1515 - tp: 294445.0000 - fp: 51377.0000 - tn: 1401877.0000 - fn: 62141.0000 - accuracy: 0.9373 - precision: 0.8514 - recall: 0.8257 - auc: 0.9785 - prc: 0.9237 - val_loss: 0.1482 - val_tp: 75273.0000 - val_fp: 13096.0000 - val_tn: 350571.0000 - val_fn: 13520.0000 - val_accuracy: 0.9412 - val_precision: 0.8518 - val_recall: 0.8477 - val_auc: 0.9795 - val_prc: 0.9267\n",
            "Epoch 28/100\n",
            "884/884 [==============================] - 4s 5ms/step - loss: 0.1510 - tp: 295272.0000 - fp: 51805.0000 - tn: 1401449.0000 - fn: 61314.0000 - accuracy: 0.9375 - precision: 0.8507 - recall: 0.8281 - auc: 0.9786 - prc: 0.9240 - val_loss: 0.1480 - val_tp: 75183.0000 - val_fp: 12517.0000 - val_tn: 351150.0000 - val_fn: 13610.0000 - val_accuracy: 0.9423 - val_precision: 0.8573 - val_recall: 0.8467 - val_auc: 0.9799 - val_prc: 0.9285\n",
            "Epoch 29/100\n",
            "884/884 [==============================] - 5s 5ms/step - loss: 0.1511 - tp: 295219.0000 - fp: 51706.0000 - tn: 1401548.0000 - fn: 61367.0000 - accuracy: 0.9375 - precision: 0.8510 - recall: 0.8279 - auc: 0.9786 - prc: 0.9241 - val_loss: 0.1477 - val_tp: 72527.0000 - val_fp: 12490.0000 - val_tn: 351177.0000 - val_fn: 16266.0000 - val_accuracy: 0.9364 - val_precision: 0.8531 - val_recall: 0.8168 - val_auc: 0.9798 - val_prc: 0.9268\n",
            "Epoch 30/100\n",
            "884/884 [==============================] - 4s 5ms/step - loss: 0.1510 - tp: 295318.0000 - fp: 51513.0000 - tn: 1401741.0000 - fn: 61268.0000 - accuracy: 0.9377 - precision: 0.8515 - recall: 0.8282 - auc: 0.9787 - prc: 0.9243 - val_loss: 0.1472 - val_tp: 75186.0000 - val_fp: 13017.0000 - val_tn: 350650.0000 - val_fn: 13607.0000 - val_accuracy: 0.9412 - val_precision: 0.8524 - val_recall: 0.8468 - val_auc: 0.9797 - val_prc: 0.9273\n",
            "Epoch 31/100\n",
            "884/884 [==============================] - 5s 6ms/step - loss: 0.1508 - tp: 295616.0000 - fp: 52165.0000 - tn: 1401089.0000 - fn: 60970.0000 - accuracy: 0.9375 - precision: 0.8500 - recall: 0.8290 - auc: 0.9788 - prc: 0.9245 - val_loss: 0.1475 - val_tp: 74590.0000 - val_fp: 12333.0000 - val_tn: 351334.0000 - val_fn: 14203.0000 - val_accuracy: 0.9414 - val_precision: 0.8581 - val_recall: 0.8400 - val_auc: 0.9799 - val_prc: 0.9288\n",
            "Epoch 32/100\n",
            "884/884 [==============================] - 5s 6ms/step - loss: 0.1505 - tp: 295764.0000 - fp: 51954.0000 - tn: 1401300.0000 - fn: 60822.0000 - accuracy: 0.9377 - precision: 0.8506 - recall: 0.8294 - auc: 0.9788 - prc: 0.9247 - val_loss: 0.1474 - val_tp: 75053.0000 - val_fp: 12985.0000 - val_tn: 350682.0000 - val_fn: 13740.0000 - val_accuracy: 0.9409 - val_precision: 0.8525 - val_recall: 0.8453 - val_auc: 0.9800 - val_prc: 0.9284\n",
            "Epoch 33/100\n",
            "884/884 [==============================] - 4s 5ms/step - loss: 0.1507 - tp: 295342.0000 - fp: 51716.0000 - tn: 1401538.0000 - fn: 61244.0000 - accuracy: 0.9376 - precision: 0.8510 - recall: 0.8282 - auc: 0.9789 - prc: 0.9247 - val_loss: 0.1473 - val_tp: 73120.0000 - val_fp: 12506.0000 - val_tn: 351161.0000 - val_fn: 15673.0000 - val_accuracy: 0.9377 - val_precision: 0.8539 - val_recall: 0.8235 - val_auc: 0.9800 - val_prc: 0.9280\n",
            "Epoch 34/100\n",
            "884/884 [==============================] - 6s 6ms/step - loss: 0.1502 - tp: 295267.0000 - fp: 51661.0000 - tn: 1401593.0000 - fn: 61319.0000 - accuracy: 0.9376 - precision: 0.8511 - recall: 0.8280 - auc: 0.9789 - prc: 0.9248 - val_loss: 0.1471 - val_tp: 72562.0000 - val_fp: 11878.0000 - val_tn: 351789.0000 - val_fn: 16231.0000 - val_accuracy: 0.9379 - val_precision: 0.8593 - val_recall: 0.8172 - val_auc: 0.9799 - val_prc: 0.9279\n",
            "Epoch 35/100\n",
            "884/884 [==============================] - 4s 5ms/step - loss: 0.1506 - tp: 295022.0000 - fp: 51312.0000 - tn: 1401942.0000 - fn: 61564.0000 - accuracy: 0.9376 - precision: 0.8518 - recall: 0.8274 - auc: 0.9789 - prc: 0.9250 - val_loss: 0.1468 - val_tp: 75370.0000 - val_fp: 12945.0000 - val_tn: 350722.0000 - val_fn: 13423.0000 - val_accuracy: 0.9417 - val_precision: 0.8534 - val_recall: 0.8488 - val_auc: 0.9801 - val_prc: 0.9285\n",
            "Epoch 36/100\n",
            "884/884 [==============================] - 4s 5ms/step - loss: 0.1502 - tp: 295999.0000 - fp: 51585.0000 - tn: 1401669.0000 - fn: 60587.0000 - accuracy: 0.9380 - precision: 0.8516 - recall: 0.8301 - auc: 0.9791 - prc: 0.9253 - val_loss: 0.1472 - val_tp: 75450.0000 - val_fp: 12882.0000 - val_tn: 350785.0000 - val_fn: 13343.0000 - val_accuracy: 0.9420 - val_precision: 0.8542 - val_recall: 0.8497 - val_auc: 0.9798 - val_prc: 0.9274\n",
            "Epoch 37/100\n",
            "884/884 [==============================] - 4s 5ms/step - loss: 0.1508 - tp: 295126.0000 - fp: 51233.0000 - tn: 1402021.0000 - fn: 61460.0000 - accuracy: 0.9377 - precision: 0.8521 - recall: 0.8276 - auc: 0.9790 - prc: 0.9251 - val_loss: 0.1470 - val_tp: 75404.0000 - val_fp: 13190.0000 - val_tn: 350477.0000 - val_fn: 13389.0000 - val_accuracy: 0.9413 - val_precision: 0.8511 - val_recall: 0.8492 - val_auc: 0.9798 - val_prc: 0.9269\n",
            "Epoch 38/100\n",
            "884/884 [==============================] - 5s 5ms/step - loss: 0.1506 - tp: 295857.0000 - fp: 51626.0000 - tn: 1401628.0000 - fn: 60729.0000 - accuracy: 0.9379 - precision: 0.8514 - recall: 0.8297 - auc: 0.9791 - prc: 0.9254 - val_loss: 0.1465 - val_tp: 75244.0000 - val_fp: 12657.0000 - val_tn: 351010.0000 - val_fn: 13549.0000 - val_accuracy: 0.9421 - val_precision: 0.8560 - val_recall: 0.8474 - val_auc: 0.9801 - val_prc: 0.9288\n",
            "Epoch 39/100\n",
            "884/884 [==============================] - 4s 5ms/step - loss: 0.1499 - tp: 295934.0000 - fp: 51586.0000 - tn: 1401668.0000 - fn: 60652.0000 - accuracy: 0.9380 - precision: 0.8516 - recall: 0.8299 - auc: 0.9792 - prc: 0.9257 - val_loss: 0.1469 - val_tp: 70649.0000 - val_fp: 12847.0000 - val_tn: 350820.0000 - val_fn: 18144.0000 - val_accuracy: 0.9315 - val_precision: 0.8461 - val_recall: 0.7957 - val_auc: 0.9801 - val_prc: 0.9295\n",
            "Epoch 40/100\n",
            "884/884 [==============================] - 5s 5ms/step - loss: 0.1504 - tp: 295699.0000 - fp: 51464.0000 - tn: 1401790.0000 - fn: 60887.0000 - accuracy: 0.9379 - precision: 0.8518 - recall: 0.8293 - auc: 0.9792 - prc: 0.9257 - val_loss: 0.1467 - val_tp: 75104.0000 - val_fp: 12437.0000 - val_tn: 351230.0000 - val_fn: 13689.0000 - val_accuracy: 0.9423 - val_precision: 0.8579 - val_recall: 0.8458 - val_auc: 0.9800 - val_prc: 0.9280\n",
            "Epoch 41/100\n",
            "884/884 [==============================] - 5s 5ms/step - loss: 0.1498 - tp: 295382.0000 - fp: 51437.0000 - tn: 1401817.0000 - fn: 61204.0000 - accuracy: 0.9378 - precision: 0.8517 - recall: 0.8284 - auc: 0.9792 - prc: 0.9256 - val_loss: 0.1463 - val_tp: 75418.0000 - val_fp: 12590.0000 - val_tn: 351077.0000 - val_fn: 13375.0000 - val_accuracy: 0.9426 - val_precision: 0.8569 - val_recall: 0.8494 - val_auc: 0.9805 - val_prc: 0.9306\n",
            "Epoch 42/100\n",
            "884/884 [==============================] - 5s 6ms/step - loss: 0.1501 - tp: 295459.0000 - fp: 51399.0000 - tn: 1401855.0000 - fn: 61127.0000 - accuracy: 0.9378 - precision: 0.8518 - recall: 0.8286 - auc: 0.9792 - prc: 0.9258 - val_loss: 0.1460 - val_tp: 75433.0000 - val_fp: 12791.0000 - val_tn: 350876.0000 - val_fn: 13360.0000 - val_accuracy: 0.9422 - val_precision: 0.8550 - val_recall: 0.8495 - val_auc: 0.9801 - val_prc: 0.9288\n",
            "Epoch 43/100\n",
            "884/884 [==============================] - 5s 5ms/step - loss: 0.1497 - tp: 295779.0000 - fp: 51557.0000 - tn: 1401697.0000 - fn: 60807.0000 - accuracy: 0.9379 - precision: 0.8516 - recall: 0.8295 - auc: 0.9793 - prc: 0.9262 - val_loss: 0.1462 - val_tp: 72662.0000 - val_fp: 11971.0000 - val_tn: 351696.0000 - val_fn: 16131.0000 - val_accuracy: 0.9379 - val_precision: 0.8586 - val_recall: 0.8183 - val_auc: 0.9805 - val_prc: 0.9306\n",
            "Epoch 44/100\n",
            "884/884 [==============================] - 5s 6ms/step - loss: 0.1495 - tp: 295962.0000 - fp: 51433.0000 - tn: 1401821.0000 - fn: 60624.0000 - accuracy: 0.9381 - precision: 0.8519 - recall: 0.8300 - auc: 0.9793 - prc: 0.9260 - val_loss: 0.1460 - val_tp: 72942.0000 - val_fp: 12561.0000 - val_tn: 351106.0000 - val_fn: 15851.0000 - val_accuracy: 0.9372 - val_precision: 0.8531 - val_recall: 0.8215 - val_auc: 0.9804 - val_prc: 0.9292\n",
            "Epoch 45/100\n",
            "884/884 [==============================] - 5s 5ms/step - loss: 0.1494 - tp: 296143.0000 - fp: 51803.0000 - tn: 1401451.0000 - fn: 60443.0000 - accuracy: 0.9380 - precision: 0.8511 - recall: 0.8305 - auc: 0.9793 - prc: 0.9262 - val_loss: 0.1461 - val_tp: 75081.0000 - val_fp: 12152.0000 - val_tn: 351515.0000 - val_fn: 13712.0000 - val_accuracy: 0.9428 - val_precision: 0.8607 - val_recall: 0.8456 - val_auc: 0.9806 - val_prc: 0.9310\n",
            "Epoch 46/100\n",
            "884/884 [==============================] - 4s 5ms/step - loss: 0.1498 - tp: 295636.0000 - fp: 51019.0000 - tn: 1402235.0000 - fn: 60950.0000 - accuracy: 0.9381 - precision: 0.8528 - recall: 0.8291 - auc: 0.9794 - prc: 0.9263 - val_loss: 0.1466 - val_tp: 72929.0000 - val_fp: 11598.0000 - val_tn: 352069.0000 - val_fn: 15864.0000 - val_accuracy: 0.9393 - val_precision: 0.8628 - val_recall: 0.8213 - val_auc: 0.9805 - val_prc: 0.9308\n",
            "Epoch 47/100\n",
            "884/884 [==============================] - 5s 5ms/step - loss: 0.1497 - tp: 295806.0000 - fp: 51550.0000 - tn: 1401704.0000 - fn: 60780.0000 - accuracy: 0.9379 - precision: 0.8516 - recall: 0.8296 - auc: 0.9794 - prc: 0.9263 - val_loss: 0.1457 - val_tp: 75389.0000 - val_fp: 12835.0000 - val_tn: 350832.0000 - val_fn: 13404.0000 - val_accuracy: 0.9420 - val_precision: 0.8545 - val_recall: 0.8490 - val_auc: 0.9805 - val_prc: 0.9307\n",
            "Epoch 48/100\n",
            "884/884 [==============================] - 5s 5ms/step - loss: 0.1496 - tp: 295678.0000 - fp: 51133.0000 - tn: 1402121.0000 - fn: 60908.0000 - accuracy: 0.9381 - precision: 0.8526 - recall: 0.8292 - auc: 0.9794 - prc: 0.9264 - val_loss: 0.1459 - val_tp: 72823.0000 - val_fp: 11984.0000 - val_tn: 351683.0000 - val_fn: 15970.0000 - val_accuracy: 0.9382 - val_precision: 0.8587 - val_recall: 0.8201 - val_auc: 0.9806 - val_prc: 0.9306\n",
            "Epoch 49/100\n",
            "884/884 [==============================] - 5s 5ms/step - loss: 0.1494 - tp: 296358.0000 - fp: 51773.0000 - tn: 1401481.0000 - fn: 60228.0000 - accuracy: 0.9381 - precision: 0.8513 - recall: 0.8311 - auc: 0.9795 - prc: 0.9268 - val_loss: 0.1459 - val_tp: 72889.0000 - val_fp: 12367.0000 - val_tn: 351300.0000 - val_fn: 15904.0000 - val_accuracy: 0.9375 - val_precision: 0.8549 - val_recall: 0.8209 - val_auc: 0.9803 - val_prc: 0.9291\n",
            "Epoch 50/100\n",
            "884/884 [==============================] - 5s 5ms/step - loss: 0.1491 - tp: 296057.0000 - fp: 51417.0000 - tn: 1401837.0000 - fn: 60529.0000 - accuracy: 0.9381 - precision: 0.8520 - recall: 0.8303 - auc: 0.9794 - prc: 0.9266 - val_loss: 0.1460 - val_tp: 75811.0000 - val_fp: 13075.0000 - val_tn: 350592.0000 - val_fn: 12982.0000 - val_accuracy: 0.9424 - val_precision: 0.8529 - val_recall: 0.8538 - val_auc: 0.9806 - val_prc: 0.9311\n",
            "Epoch 51/100\n",
            "884/884 [==============================] - 5s 5ms/step - loss: 0.1494 - tp: 295671.0000 - fp: 51625.0000 - tn: 1401629.0000 - fn: 60915.0000 - accuracy: 0.9378 - precision: 0.8514 - recall: 0.8292 - auc: 0.9794 - prc: 0.9267 - val_loss: 0.1461 - val_tp: 75664.0000 - val_fp: 12813.0000 - val_tn: 350854.0000 - val_fn: 13129.0000 - val_accuracy: 0.9427 - val_precision: 0.8552 - val_recall: 0.8521 - val_auc: 0.9807 - val_prc: 0.9316\n",
            "Epoch 52/100\n",
            "884/884 [==============================] - 6s 6ms/step - loss: 0.1493 - tp: 295818.0000 - fp: 51349.0000 - tn: 1401905.0000 - fn: 60768.0000 - accuracy: 0.9381 - precision: 0.8521 - recall: 0.8296 - auc: 0.9795 - prc: 0.9267 - val_loss: 0.1461 - val_tp: 75809.0000 - val_fp: 12938.0000 - val_tn: 350729.0000 - val_fn: 12984.0000 - val_accuracy: 0.9427 - val_precision: 0.8542 - val_recall: 0.8538 - val_auc: 0.9802 - val_prc: 0.9290\n",
            "Epoch 53/100\n",
            "884/884 [==============================] - 5s 5ms/step - loss: 0.1493 - tp: 295827.0000 - fp: 51391.0000 - tn: 1401863.0000 - fn: 60759.0000 - accuracy: 0.9380 - precision: 0.8520 - recall: 0.8296 - auc: 0.9795 - prc: 0.9268 - val_loss: 0.1458 - val_tp: 70469.0000 - val_fp: 12135.0000 - val_tn: 351532.0000 - val_fn: 18324.0000 - val_accuracy: 0.9327 - val_precision: 0.8531 - val_recall: 0.7936 - val_auc: 0.9807 - val_prc: 0.9308\n",
            "Epoch 54/100\n",
            "884/884 [==============================] - 5s 5ms/step - loss: 0.1487 - tp: 296130.0000 - fp: 51516.0000 - tn: 1401738.0000 - fn: 60456.0000 - accuracy: 0.9381 - precision: 0.8518 - recall: 0.8305 - auc: 0.9796 - prc: 0.9272 - val_loss: 0.1453 - val_tp: 73466.0000 - val_fp: 12649.0000 - val_tn: 351018.0000 - val_fn: 15327.0000 - val_accuracy: 0.9382 - val_precision: 0.8531 - val_recall: 0.8274 - val_auc: 0.9806 - val_prc: 0.9306\n",
            "Epoch 55/100\n",
            "884/884 [==============================] - 5s 5ms/step - loss: 0.1493 - tp: 296153.0000 - fp: 51448.0000 - tn: 1401806.0000 - fn: 60433.0000 - accuracy: 0.9382 - precision: 0.8520 - recall: 0.8305 - auc: 0.9796 - prc: 0.9271 - val_loss: 0.1469 - val_tp: 69468.0000 - val_fp: 11620.0000 - val_tn: 352047.0000 - val_fn: 19325.0000 - val_accuracy: 0.9316 - val_precision: 0.8567 - val_recall: 0.7824 - val_auc: 0.9807 - val_prc: 0.9307\n",
            "Epoch 56/100\n",
            "884/884 [==============================] - 4s 5ms/step - loss: 0.1489 - tp: 295492.0000 - fp: 51272.0000 - tn: 1401982.0000 - fn: 61094.0000 - accuracy: 0.9379 - precision: 0.8521 - recall: 0.8287 - auc: 0.9796 - prc: 0.9271 - val_loss: 0.1455 - val_tp: 75652.0000 - val_fp: 12796.0000 - val_tn: 350871.0000 - val_fn: 13141.0000 - val_accuracy: 0.9427 - val_precision: 0.8553 - val_recall: 0.8520 - val_auc: 0.9809 - val_prc: 0.9322\n",
            "Epoch 57/100\n",
            "884/884 [==============================] - 5s 5ms/step - loss: 0.1488 - tp: 296148.0000 - fp: 51444.0000 - tn: 1401810.0000 - fn: 60438.0000 - accuracy: 0.9382 - precision: 0.8520 - recall: 0.8305 - auc: 0.9796 - prc: 0.9271 - val_loss: 0.1454 - val_tp: 74932.0000 - val_fp: 12477.0000 - val_tn: 351190.0000 - val_fn: 13861.0000 - val_accuracy: 0.9418 - val_precision: 0.8573 - val_recall: 0.8439 - val_auc: 0.9805 - val_prc: 0.9306\n",
            "Epoch 58/100\n",
            "884/884 [==============================] - 4s 5ms/step - loss: 0.1491 - tp: 296647.0000 - fp: 51394.0000 - tn: 1401860.0000 - fn: 59939.0000 - accuracy: 0.9385 - precision: 0.8523 - recall: 0.8319 - auc: 0.9797 - prc: 0.9276 - val_loss: 0.1466 - val_tp: 70354.0000 - val_fp: 11799.0000 - val_tn: 351868.0000 - val_fn: 18439.0000 - val_accuracy: 0.9332 - val_precision: 0.8564 - val_recall: 0.7923 - val_auc: 0.9806 - val_prc: 0.9295\n",
            "Epoch 59/100\n",
            "884/884 [==============================] - 4s 5ms/step - loss: 0.1493 - tp: 295899.0000 - fp: 51032.0000 - tn: 1402222.0000 - fn: 60687.0000 - accuracy: 0.9383 - precision: 0.8529 - recall: 0.8298 - auc: 0.9797 - prc: 0.9273 - val_loss: 0.1450 - val_tp: 73261.0000 - val_fp: 12551.0000 - val_tn: 351116.0000 - val_fn: 15532.0000 - val_accuracy: 0.9379 - val_precision: 0.8537 - val_recall: 0.8251 - val_auc: 0.9807 - val_prc: 0.9304\n",
            "Epoch 60/100\n",
            "884/884 [==============================] - 5s 5ms/step - loss: 0.1497 - tp: 295878.0000 - fp: 51028.0000 - tn: 1402226.0000 - fn: 60708.0000 - accuracy: 0.9383 - precision: 0.8529 - recall: 0.8298 - auc: 0.9797 - prc: 0.9274 - val_loss: 0.1452 - val_tp: 75469.0000 - val_fp: 12772.0000 - val_tn: 350895.0000 - val_fn: 13324.0000 - val_accuracy: 0.9423 - val_precision: 0.8553 - val_recall: 0.8499 - val_auc: 0.9808 - val_prc: 0.9316\n",
            "Epoch 61/100\n",
            "884/884 [==============================] - 5s 5ms/step - loss: 0.1492 - tp: 295747.0000 - fp: 51304.0000 - tn: 1401950.0000 - fn: 60839.0000 - accuracy: 0.9380 - precision: 0.8522 - recall: 0.8294 - auc: 0.9797 - prc: 0.9274 - val_loss: 0.1451 - val_tp: 75156.0000 - val_fp: 12597.0000 - val_tn: 351070.0000 - val_fn: 13637.0000 - val_accuracy: 0.9420 - val_precision: 0.8564 - val_recall: 0.8464 - val_auc: 0.9807 - val_prc: 0.9314\n",
            "Epoch 62/100\n",
            "884/884 [==============================] - 4s 5ms/step - loss: 0.1491 - tp: 295933.0000 - fp: 51259.0000 - tn: 1401995.0000 - fn: 60653.0000 - accuracy: 0.9382 - precision: 0.8524 - recall: 0.8299 - auc: 0.9797 - prc: 0.9274 - val_loss: 0.1458 - val_tp: 77320.0000 - val_fp: 14803.0000 - val_tn: 348864.0000 - val_fn: 11473.0000 - val_accuracy: 0.9419 - val_precision: 0.8393 - val_recall: 0.8708 - val_auc: 0.9810 - val_prc: 0.9324\n",
            "Epoch 63/100\n",
            "884/884 [==============================] - 4s 5ms/step - loss: 0.1491 - tp: 295919.0000 - fp: 51001.0000 - tn: 1402253.0000 - fn: 60667.0000 - accuracy: 0.9383 - precision: 0.8530 - recall: 0.8299 - auc: 0.9797 - prc: 0.9275 - val_loss: 0.1456 - val_tp: 73627.0000 - val_fp: 12930.0000 - val_tn: 350737.0000 - val_fn: 15166.0000 - val_accuracy: 0.9379 - val_precision: 0.8506 - val_recall: 0.8292 - val_auc: 0.9809 - val_prc: 0.9325\n",
            "Epoch 64/100\n",
            "884/884 [==============================] - 5s 5ms/step - loss: 0.1491 - tp: 295891.0000 - fp: 51106.0000 - tn: 1402148.0000 - fn: 60695.0000 - accuracy: 0.9382 - precision: 0.8527 - recall: 0.8298 - auc: 0.9797 - prc: 0.9275 - val_loss: 0.1452 - val_tp: 75323.0000 - val_fp: 12668.0000 - val_tn: 350999.0000 - val_fn: 13470.0000 - val_accuracy: 0.9422 - val_precision: 0.8560 - val_recall: 0.8483 - val_auc: 0.9809 - val_prc: 0.9321\n",
            "Epoch 65/100\n",
            "884/884 [==============================] - 4s 5ms/step - loss: 0.1488 - tp: 296392.0000 - fp: 51134.0000 - tn: 1402120.0000 - fn: 60194.0000 - accuracy: 0.9385 - precision: 0.8529 - recall: 0.8312 - auc: 0.9798 - prc: 0.9279 - val_loss: 0.1449 - val_tp: 75033.0000 - val_fp: 12411.0000 - val_tn: 351256.0000 - val_fn: 13760.0000 - val_accuracy: 0.9422 - val_precision: 0.8581 - val_recall: 0.8450 - val_auc: 0.9805 - val_prc: 0.9298\n",
            "Epoch 66/100\n",
            "884/884 [==============================] - 5s 5ms/step - loss: 0.1490 - tp: 296140.0000 - fp: 51408.0000 - tn: 1401846.0000 - fn: 60446.0000 - accuracy: 0.9382 - precision: 0.8521 - recall: 0.8305 - auc: 0.9797 - prc: 0.9275 - val_loss: 0.1450 - val_tp: 75192.0000 - val_fp: 12392.0000 - val_tn: 351275.0000 - val_fn: 13601.0000 - val_accuracy: 0.9426 - val_precision: 0.8585 - val_recall: 0.8468 - val_auc: 0.9807 - val_prc: 0.9308\n",
            "Epoch 67/100\n",
            "884/884 [==============================] - 5s 5ms/step - loss: 0.1491 - tp: 296160.0000 - fp: 51432.0000 - tn: 1401822.0000 - fn: 60426.0000 - accuracy: 0.9382 - precision: 0.8520 - recall: 0.8305 - auc: 0.9798 - prc: 0.9278 - val_loss: 0.1450 - val_tp: 75807.0000 - val_fp: 12962.0000 - val_tn: 350705.0000 - val_fn: 12986.0000 - val_accuracy: 0.9427 - val_precision: 0.8540 - val_recall: 0.8537 - val_auc: 0.9808 - val_prc: 0.9316\n",
            "Epoch 68/100\n",
            "884/884 [==============================] - 5s 6ms/step - loss: 0.1486 - tp: 296024.0000 - fp: 51404.0000 - tn: 1401850.0000 - fn: 60562.0000 - accuracy: 0.9381 - precision: 0.8520 - recall: 0.8302 - auc: 0.9798 - prc: 0.9277 - val_loss: 0.1448 - val_tp: 75449.0000 - val_fp: 12736.0000 - val_tn: 350931.0000 - val_fn: 13344.0000 - val_accuracy: 0.9424 - val_precision: 0.8556 - val_recall: 0.8497 - val_auc: 0.9808 - val_prc: 0.9316\n",
            "Epoch 69/100\n",
            "884/884 [==============================] - 6s 6ms/step - loss: 0.1487 - tp: 296064.0000 - fp: 51085.0000 - tn: 1402169.0000 - fn: 60522.0000 - accuracy: 0.9383 - precision: 0.8528 - recall: 0.8303 - auc: 0.9799 - prc: 0.9280 - val_loss: 0.1448 - val_tp: 70469.0000 - val_fp: 12087.0000 - val_tn: 351580.0000 - val_fn: 18324.0000 - val_accuracy: 0.9328 - val_precision: 0.8536 - val_recall: 0.7936 - val_auc: 0.9808 - val_prc: 0.9310\n",
            "Epoch 70/100\n",
            "884/884 [==============================] - 5s 5ms/step - loss: 0.1482 - tp: 296006.0000 - fp: 51191.0000 - tn: 1402063.0000 - fn: 60580.0000 - accuracy: 0.9382 - precision: 0.8526 - recall: 0.8301 - auc: 0.9798 - prc: 0.9279 - val_loss: 0.1453 - val_tp: 75508.0000 - val_fp: 12768.0000 - val_tn: 350899.0000 - val_fn: 13285.0000 - val_accuracy: 0.9424 - val_precision: 0.8554 - val_recall: 0.8504 - val_auc: 0.9809 - val_prc: 0.9310\n",
            "Epoch 71/100\n",
            "884/884 [==============================] - 5s 5ms/step - loss: 0.1479 - tp: 296509.0000 - fp: 51284.0000 - tn: 1401970.0000 - fn: 60077.0000 - accuracy: 0.9385 - precision: 0.8525 - recall: 0.8315 - auc: 0.9799 - prc: 0.9280 - val_loss: 0.1450 - val_tp: 75184.0000 - val_fp: 12238.0000 - val_tn: 351429.0000 - val_fn: 13609.0000 - val_accuracy: 0.9429 - val_precision: 0.8600 - val_recall: 0.8467 - val_auc: 0.9811 - val_prc: 0.9333\n",
            "Epoch 72/100\n",
            "884/884 [==============================] - 5s 5ms/step - loss: 0.1485 - tp: 296114.0000 - fp: 51024.0000 - tn: 1402230.0000 - fn: 60472.0000 - accuracy: 0.9384 - precision: 0.8530 - recall: 0.8304 - auc: 0.9799 - prc: 0.9282 - val_loss: 0.1447 - val_tp: 73063.0000 - val_fp: 12094.0000 - val_tn: 351573.0000 - val_fn: 15730.0000 - val_accuracy: 0.9385 - val_precision: 0.8580 - val_recall: 0.8228 - val_auc: 0.9810 - val_prc: 0.9326\n",
            "Epoch 73/100\n",
            "884/884 [==============================] - 4s 5ms/step - loss: 0.1480 - tp: 295959.0000 - fp: 51081.0000 - tn: 1402173.0000 - fn: 60627.0000 - accuracy: 0.9383 - precision: 0.8528 - recall: 0.8300 - auc: 0.9799 - prc: 0.9281 - val_loss: 0.1449 - val_tp: 75869.0000 - val_fp: 13314.0000 - val_tn: 350353.0000 - val_fn: 12924.0000 - val_accuracy: 0.9420 - val_precision: 0.8507 - val_recall: 0.8544 - val_auc: 0.9810 - val_prc: 0.9321\n",
            "Epoch 74/100\n",
            "884/884 [==============================] - 4s 5ms/step - loss: 0.1484 - tp: 296804.0000 - fp: 51356.0000 - tn: 1401898.0000 - fn: 59782.0000 - accuracy: 0.9386 - precision: 0.8525 - recall: 0.8323 - auc: 0.9800 - prc: 0.9284 - val_loss: 0.1445 - val_tp: 75596.0000 - val_fp: 12890.0000 - val_tn: 350777.0000 - val_fn: 13197.0000 - val_accuracy: 0.9423 - val_precision: 0.8543 - val_recall: 0.8514 - val_auc: 0.9809 - val_prc: 0.9319\n",
            "Epoch 75/100\n",
            "884/884 [==============================] - 5s 5ms/step - loss: 0.1483 - tp: 296313.0000 - fp: 51354.0000 - tn: 1401900.0000 - fn: 60273.0000 - accuracy: 0.9383 - precision: 0.8523 - recall: 0.8310 - auc: 0.9799 - prc: 0.9282 - val_loss: 0.1448 - val_tp: 74588.0000 - val_fp: 12382.0000 - val_tn: 351285.0000 - val_fn: 14205.0000 - val_accuracy: 0.9412 - val_precision: 0.8576 - val_recall: 0.8400 - val_auc: 0.9807 - val_prc: 0.9304\n",
            "Epoch 76/100\n",
            "884/884 [==============================] - 5s 5ms/step - loss: 0.1482 - tp: 296741.0000 - fp: 51312.0000 - tn: 1401942.0000 - fn: 59845.0000 - accuracy: 0.9386 - precision: 0.8526 - recall: 0.8322 - auc: 0.9800 - prc: 0.9285 - val_loss: 0.1452 - val_tp: 69781.0000 - val_fp: 11913.0000 - val_tn: 351754.0000 - val_fn: 19012.0000 - val_accuracy: 0.9317 - val_precision: 0.8542 - val_recall: 0.7859 - val_auc: 0.9807 - val_prc: 0.9305\n",
            "Epoch 77/100\n",
            "884/884 [==============================] - 5s 5ms/step - loss: 0.1489 - tp: 296460.0000 - fp: 51272.0000 - tn: 1401982.0000 - fn: 60126.0000 - accuracy: 0.9384 - precision: 0.8526 - recall: 0.8314 - auc: 0.9799 - prc: 0.9282 - val_loss: 0.1446 - val_tp: 75548.0000 - val_fp: 12909.0000 - val_tn: 350758.0000 - val_fn: 13245.0000 - val_accuracy: 0.9422 - val_precision: 0.8541 - val_recall: 0.8508 - val_auc: 0.9810 - val_prc: 0.9324\n",
            "Epoch 78/100\n",
            "884/884 [==============================] - 4s 5ms/step - loss: 0.1478 - tp: 296385.0000 - fp: 51031.0000 - tn: 1402223.0000 - fn: 60201.0000 - accuracy: 0.9385 - precision: 0.8531 - recall: 0.8312 - auc: 0.9800 - prc: 0.9284 - val_loss: 0.1455 - val_tp: 75156.0000 - val_fp: 12308.0000 - val_tn: 351359.0000 - val_fn: 13637.0000 - val_accuracy: 0.9427 - val_precision: 0.8593 - val_recall: 0.8464 - val_auc: 0.9808 - val_prc: 0.9311\n",
            "Epoch 79/100\n",
            "884/884 [==============================] - 4s 5ms/step - loss: 0.1476 - tp: 296142.0000 - fp: 50997.0000 - tn: 1402257.0000 - fn: 60444.0000 - accuracy: 0.9384 - precision: 0.8531 - recall: 0.8305 - auc: 0.9801 - prc: 0.9286 - val_loss: 0.1448 - val_tp: 70542.0000 - val_fp: 11912.0000 - val_tn: 351755.0000 - val_fn: 18251.0000 - val_accuracy: 0.9333 - val_precision: 0.8555 - val_recall: 0.7945 - val_auc: 0.9811 - val_prc: 0.9326\n",
            "Epoch 80/100\n",
            "884/884 [==============================] - 5s 5ms/step - loss: 0.1484 - tp: 296664.0000 - fp: 51053.0000 - tn: 1402201.0000 - fn: 59922.0000 - accuracy: 0.9387 - precision: 0.8532 - recall: 0.8320 - auc: 0.9800 - prc: 0.9285 - val_loss: 0.1443 - val_tp: 75288.0000 - val_fp: 12705.0000 - val_tn: 350962.0000 - val_fn: 13505.0000 - val_accuracy: 0.9421 - val_precision: 0.8556 - val_recall: 0.8479 - val_auc: 0.9809 - val_prc: 0.9315\n",
            "Epoch 81/100\n",
            "884/884 [==============================] - ETA: 0s - loss: 0.1489 - tp: 296668.0000 - fp: 51390.0000 - tn: 1401864.0000 - fn: 59918.0000 - accuracy: 0.9385 - precision: 0.8524 - recall: 0.8320 - auc: 0.9800 - prc: 0.9287Restoring model weights from the end of the best epoch: 71.\n",
            "884/884 [==============================] - 4s 5ms/step - loss: 0.1489 - tp: 296668.0000 - fp: 51390.0000 - tn: 1401864.0000 - fn: 59918.0000 - accuracy: 0.9385 - precision: 0.8524 - recall: 0.8320 - auc: 0.9800 - prc: 0.9287 - val_loss: 0.1445 - val_tp: 75056.0000 - val_fp: 12412.0000 - val_tn: 351255.0000 - val_fn: 13737.0000 - val_accuracy: 0.9422 - val_precision: 0.8581 - val_recall: 0.8453 - val_auc: 0.9809 - val_prc: 0.9314\n",
            "Epoch 81: early stopping\n"
          ]
        }
      ]
    },
    {
      "cell_type": "code",
      "source": [
        "#Graficando métricas\n",
        "def plot_metrics(history):\n",
        "  metrics = ['loss', 'prc', 'precision', 'recall']\n",
        "  for n, metric in enumerate(metrics):\n",
        "    name = metric.replace(\"_\",\" \").capitalize()\n",
        "    plt.subplot(2,2,n+1)\n",
        "    plt.plot(history.epoch, history.history[metric], color=colors[0], label='Train')\n",
        "    plt.plot(history.epoch, history.history['val_'+metric],\n",
        "             color=colors[0], linestyle=\"--\", label='Val')\n",
        "    plt.xlabel('Epoch')\n",
        "    plt.ylabel(name)\n",
        "    if metric == 'loss':\n",
        "      plt.ylim([0, plt.ylim()[1]])\n",
        "    elif metric == 'auc':\n",
        "      plt.ylim([0.8,1])\n",
        "    else:\n",
        "      plt.ylim([0,1])\n",
        "\n",
        "    plt.legend();\n",
        "\n",
        "plot_metrics(baseline_history)"
      ],
      "metadata": {
        "id": "92JK6AsWew8G",
        "colab": {
          "base_uri": "https://localhost:8080/",
          "height": 610
        },
        "outputId": "c8bae9b1-3f82-4f84-836d-2dda4a9fd6e9"
      },
      "execution_count": null,
      "outputs": [
        {
          "output_type": "display_data",
          "data": {
            "text/plain": [
              "<Figure size 864x720 with 4 Axes>"
            ],
            "image/png": "[encoded data removed]"
          },
          "metadata": {
            "needs_background": "light"
          }
        }
      ]
    },
    {
      "cell_type": "code",
      "source": [
        "train_predictions_baseline = model.predict(train_features, batch_size=BATCH_SIZE)\n",
        "test_predictions_baseline = model.predict(test_features, batch_size=BATCH_SIZE)"
      ],
      "metadata": {
        "colab": {
          "base_uri": "https://localhost:8080/"
        },
        "id": "Pb_Gl6atgSiS",
        "outputId": "d5047fbc-cd81-483a-f46d-6f32da804a56"
      },
      "execution_count": null,
      "outputs": [
        {
          "output_type": "stream",
          "name": "stdout",
          "text": [
            "884/884 [==============================] - 1s 1ms/step\n",
            "277/277 [==============================] - 0s 1ms/step\n"
          ]
        }
      ]
    },
    {
      "cell_type": "code",
      "source": [
        "def matriz(labels, predictions, p=0.5):\n",
        "  cm = confusion_matrix(labels, predictions > p)\n",
        "  plt.figure(figsize=(5,5))\n",
        "  sns.heatmap(cm, annot=True, fmt=\"d\")\n",
        "  plt.title('Confusion matrix @{:.2f}'.format(p))\n",
        "  plt.ylabel('Actual label')\n",
        "  plt.xlabel('Predicted label')\n",
        "\n",
        "  print('Legitimate Transactions Detected (True Negatives): ', cm[0][0])\n",
        "  print('Legitimate Transactions Incorrectly Detected (False Positives): ', cm[0][1])\n",
        "  print('Fraudulent Transactions Missed (False Negatives): ', cm[1][0])\n",
        "  print('Fraudulent Transactions Detected (True Positives): ', cm[1][1])\n",
        "  print('Total Fraudulent Transactions: ', np.sum(cm[1]))\n"
      ],
      "metadata": {
        "id": "8fyp3dErgb7J"
      },
      "execution_count": null,
      "outputs": []
    },
    {
      "cell_type": "code",
      "source": [
        "baseline_results = model.evaluate(test_features, test_labels,\n",
        "                                  batch_size=BATCH_SIZE, verbose=0)\n",
        "for name, value in zip(model.metrics_names, baseline_results):\n",
        "  print(name, ': ', value)\n",
        "  \n",
        "print()\n",
        "\n",
        "plot_cm(test_labels, test_predictions_baseline)"
      ],
      "metadata": {
        "colab": {
          "base_uri": "https://localhost:8080/",
          "height": 628
        },
        "id": "TRF5v3rfgfY8",
        "outputId": "3bedee9d-8755-412f-c39f-aec54d9a9a12"
      },
      "execution_count": null,
      "outputs": [
        {
          "output_type": "stream",
          "name": "stdout",
          "text": [
            "loss :  0.14492566883563995\n",
            "tp :  94498.0\n",
            "fp :  15309.0\n",
            "tn :  439090.0\n",
            "fn :  16679.0\n",
            "accuracy :  0.9434417486190796\n",
            "precision :  0.8605826497077942\n",
            "recall :  0.849977970123291\n",
            "auc :  0.9812352061271667\n",
            "prc :  0.9340665340423584\n",
            "\n",
            "Legitimate Transactions Detected (True Negatives):  439090\n",
            "Legitimate Transactions Incorrectly Detected (False Positives):  15309\n",
            "Fraudulent Transactions Missed (False Negatives):  16679\n",
            "Fraudulent Transactions Detected (True Positives):  94498\n",
            "Total Fraudulent Transactions:  111177\n"
          ]
        },
        {
          "output_type": "display_data",
          "data": {
            "text/plain": [
              "<Figure size 360x360 with 2 Axes>"
            ],
            "image/png": "[encoded data removed]"
          },
          "metadata": {
            "needs_background": "light"
          }
        }
      ]
    }
  ]
}