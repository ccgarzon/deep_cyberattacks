{
  "nbformat": 4,
  "nbformat_minor": 0,
  "metadata": {
    "colab": {
      "provenance": []
    },
    "kernelspec": {
      "name": "python3",
      "display_name": "Python 3"
    },
    "language_info": {
      "name": "python"
    },
    "accelerator": "GPU",
    "gpuClass": "standard"
  },
  "cells": [
    {
      "cell_type": "markdown",
      "source": [
        "CHRISTIAN CAMILO GARZON VASQUEZ\n",
        "\n",
        "\n",
        "---\n",
        "\n",
        "\n",
        "FUNDAMENTOS DE DEEP LEARNING\n",
        "\n",
        "FACULTAD DE INGENIERIA\n",
        "\n",
        "UNIVERSIDAD DE ANTIOQUIA\n",
        "\n",
        "\n",
        "---\n",
        "\n",
        "\n"
      ],
      "metadata": {
        "id": "3fK1X49hzPIr"
      }
    },
    {
      "cell_type": "markdown",
      "source": [
        "#**SIMPLE RNN**\n",
        "#**Y**\n",
        "#**LSTM**"
      ],
      "metadata": {
        "id": "XO2jJBE5xc7S"
      }
    },
    {
      "cell_type": "markdown",
      "source": [
        "**BASADO EN:** https://ai-leader.com/2020/05/09/using-lstm-with-1d-2d-and-3d-array/, https://medium.com/machine-learning-algorithms/mnist-using-recurrent-neural-network-2d070a5915a2 Y NOTAS DE CLASE"
      ],
      "metadata": {
        "id": "n7ze77f1xqCH"
      }
    },
    {
      "cell_type": "markdown",
      "source": [
        "# 0. LIBRERIAS REQUERIDAS"
      ],
      "metadata": {
        "id": "eVYRPfTPZkrm"
      }
    },
    {
      "cell_type": "code",
      "source": [
        "from google.colab import drive\n",
        "import pandas as pd\n",
        "import numpy as np\n",
        "from sklearn.model_selection import train_test_split\n",
        "from sklearn.preprocessing import StandardScaler\n",
        "import tensorflow as tf\n",
        "from tensorflow import keras\n",
        "from tensorflow.keras.models import Sequential\n",
        "from tensorflow.keras.layers import Dense, Activation, LSTM, Dropout, SimpleRNN\n",
        "import matplotlib as mpl\n",
        "from matplotlib import pylab as plt\n",
        "from sklearn.metrics import confusion_matrix\n",
        "import seaborn as sns"
      ],
      "metadata": {
        "id": "onl_Ig6EyNxw"
      },
      "execution_count": 51,
      "outputs": []
    },
    {
      "cell_type": "markdown",
      "source": [
        "# 1. CARGA DE DATOS Y ANÁLISIS INICIAL"
      ],
      "metadata": {
        "id": "0kLYDSa7Z5Io"
      }
    },
    {
      "cell_type": "code",
      "source": [
        "#Montaje y visualización de las primeras 5 muestras\n",
        "#Asegurate de tener el archivo \"data_bin_balanceada.csv\" en la misma carpeta\n",
        "df = pd.read_csv('data_bin_balanceada.csv')\n",
        "df.head()"
      ],
      "metadata": {
        "id": "ZSUoFdcn_3-5",
        "colab": {
          "base_uri": "https://localhost:8080/",
          "height": 352
        },
        "outputId": "5cc5825b-6f49-4ffd-9802-ae6bd86483a4"
      },
      "execution_count": 3,
      "outputs": [
        {
          "output_type": "execute_result",
          "data": {
            "text/plain": [
              "    Destination Port   Flow Duration   Total Fwd Packets  \\\n",
              "0                 53           30319                   1   \n",
              "1                 80        99185660                   9   \n",
              "2                443        33208779                  20   \n",
              "3                 53           92872                   2   \n",
              "4              48292               3                   2   \n",
              "\n",
              "    Total Backward Packets  Total Length of Fwd Packets  \\\n",
              "0                        1                           45   \n",
              "1                        6                          353   \n",
              "2                       17                         2012   \n",
              "3                        2                           70   \n",
              "4                        0                            0   \n",
              "\n",
              "    Total Length of Bwd Packets   Fwd Packet Length Max  \\\n",
              "0                            61                      45   \n",
              "1                         11595                     353   \n",
              "2                         12206                     517   \n",
              "3                           270                      35   \n",
              "4                             0                       0   \n",
              "\n",
              "    Fwd Packet Length Min   Fwd Packet Length Mean   Fwd Packet Length Std  \\\n",
              "0                      45                45.000000                0.000000   \n",
              "1                       0                39.222222              117.666667   \n",
              "2                       0               100.600000              188.018868   \n",
              "3                      35                35.000000                0.000000   \n",
              "4                       0                 0.000000                0.000000   \n",
              "\n",
              "   ...   min_seg_size_forward  Active Mean     Active Std   Active Max  \\\n",
              "0  ...                     20          0.0       0.000000            0   \n",
              "1  ...                     32       5991.0       0.000000         5991   \n",
              "2  ...                     32     581694.0  291640.535046       787915   \n",
              "3  ...                     32          0.0       0.000000            0   \n",
              "4  ...                     32          0.0       0.000000            0   \n",
              "\n",
              "    Active Min   Idle Mean      Idle Std   Idle Max   Idle Min   Label  \n",
              "0            0         0.0  0.000000e+00          0          0       0  \n",
              "1         5991  99100000.0  0.000000e+00   99100000   99100000       1  \n",
              "2       375473  16022615.0  3.473294e+06   18478605   13566625       0  \n",
              "3            0         0.0  0.000000e+00          0          0       0  \n",
              "4            0         0.0  0.000000e+00          0          0       0  \n",
              "\n",
              "[5 rows x 79 columns]"
            ],
            "text/html": [
              "\n",
              "  <div id=\"df-2e5c14a8-1878-4dfb-9784-92a53b517b10\">\n",
              "    <div class=\"colab-df-container\">\n",
              "      <div>\n",
              "<style scoped>\n",
              "    .dataframe tbody tr th:only-of-type {\n",
              "        vertical-align: middle;\n",
              "    }\n",
              "\n",
              "    .dataframe tbody tr th {\n",
              "        vertical-align: top;\n",
              "    }\n",
              "\n",
              "    .dataframe thead th {\n",
              "        text-align: right;\n",
              "    }\n",
              "</style>\n",
              "<table border=\"1\" class=\"dataframe\">\n",
              "  <thead>\n",
              "    <tr style=\"text-align: right;\">\n",
              "      <th></th>\n",
              "      <th>Destination Port</th>\n",
              "      <th>Flow Duration</th>\n",
              "      <th>Total Fwd Packets</th>\n",
              "      <th>Total Backward Packets</th>\n",
              "      <th>Total Length of Fwd Packets</th>\n",
              "      <th>Total Length of Bwd Packets</th>\n",
              "      <th>Fwd Packet Length Max</th>\n",
              "      <th>Fwd Packet Length Min</th>\n",
              "      <th>Fwd Packet Length Mean</th>\n",
              "      <th>Fwd Packet Length Std</th>\n",
              "      <th>...</th>\n",
              "      <th>min_seg_size_forward</th>\n",
              "      <th>Active Mean</th>\n",
              "      <th>Active Std</th>\n",
              "      <th>Active Max</th>\n",
              "      <th>Active Min</th>\n",
              "      <th>Idle Mean</th>\n",
              "      <th>Idle Std</th>\n",
              "      <th>Idle Max</th>\n",
              "      <th>Idle Min</th>\n",
              "      <th>Label</th>\n",
              "    </tr>\n",
              "  </thead>\n",
              "  <tbody>\n",
              "    <tr>\n",
              "      <th>0</th>\n",
              "      <td>53</td>\n",
              "      <td>30319</td>\n",
              "      <td>1</td>\n",
              "      <td>1</td>\n",
              "      <td>45</td>\n",
              "      <td>61</td>\n",
              "      <td>45</td>\n",
              "      <td>45</td>\n",
              "      <td>45.000000</td>\n",
              "      <td>0.000000</td>\n",
              "      <td>...</td>\n",
              "      <td>20</td>\n",
              "      <td>0.0</td>\n",
              "      <td>0.000000</td>\n",
              "      <td>0</td>\n",
              "      <td>0</td>\n",
              "      <td>0.0</td>\n",
              "      <td>0.000000e+00</td>\n",
              "      <td>0</td>\n",
              "      <td>0</td>\n",
              "      <td>0</td>\n",
              "    </tr>\n",
              "    <tr>\n",
              "      <th>1</th>\n",
              "      <td>80</td>\n",
              "      <td>99185660</td>\n",
              "      <td>9</td>\n",
              "      <td>6</td>\n",
              "      <td>353</td>\n",
              "      <td>11595</td>\n",
              "      <td>353</td>\n",
              "      <td>0</td>\n",
              "      <td>39.222222</td>\n",
              "      <td>117.666667</td>\n",
              "      <td>...</td>\n",
              "      <td>32</td>\n",
              "      <td>5991.0</td>\n",
              "      <td>0.000000</td>\n",
              "      <td>5991</td>\n",
              "      <td>5991</td>\n",
              "      <td>99100000.0</td>\n",
              "      <td>0.000000e+00</td>\n",
              "      <td>99100000</td>\n",
              "      <td>99100000</td>\n",
              "      <td>1</td>\n",
              "    </tr>\n",
              "    <tr>\n",
              "      <th>2</th>\n",
              "      <td>443</td>\n",
              "      <td>33208779</td>\n",
              "      <td>20</td>\n",
              "      <td>17</td>\n",
              "      <td>2012</td>\n",
              "      <td>12206</td>\n",
              "      <td>517</td>\n",
              "      <td>0</td>\n",
              "      <td>100.600000</td>\n",
              "      <td>188.018868</td>\n",
              "      <td>...</td>\n",
              "      <td>32</td>\n",
              "      <td>581694.0</td>\n",
              "      <td>291640.535046</td>\n",
              "      <td>787915</td>\n",
              "      <td>375473</td>\n",
              "      <td>16022615.0</td>\n",
              "      <td>3.473294e+06</td>\n",
              "      <td>18478605</td>\n",
              "      <td>13566625</td>\n",
              "      <td>0</td>\n",
              "    </tr>\n",
              "    <tr>\n",
              "      <th>3</th>\n",
              "      <td>53</td>\n",
              "      <td>92872</td>\n",
              "      <td>2</td>\n",
              "      <td>2</td>\n",
              "      <td>70</td>\n",
              "      <td>270</td>\n",
              "      <td>35</td>\n",
              "      <td>35</td>\n",
              "      <td>35.000000</td>\n",
              "      <td>0.000000</td>\n",
              "      <td>...</td>\n",
              "      <td>32</td>\n",
              "      <td>0.0</td>\n",
              "      <td>0.000000</td>\n",
              "      <td>0</td>\n",
              "      <td>0</td>\n",
              "      <td>0.0</td>\n",
              "      <td>0.000000e+00</td>\n",
              "      <td>0</td>\n",
              "      <td>0</td>\n",
              "      <td>0</td>\n",
              "    </tr>\n",
              "    <tr>\n",
              "      <th>4</th>\n",
              "      <td>48292</td>\n",
              "      <td>3</td>\n",
              "      <td>2</td>\n",
              "      <td>0</td>\n",
              "      <td>0</td>\n",
              "      <td>0</td>\n",
              "      <td>0</td>\n",
              "      <td>0</td>\n",
              "      <td>0.000000</td>\n",
              "      <td>0.000000</td>\n",
              "      <td>...</td>\n",
              "      <td>32</td>\n",
              "      <td>0.0</td>\n",
              "      <td>0.000000</td>\n",
              "      <td>0</td>\n",
              "      <td>0</td>\n",
              "      <td>0.0</td>\n",
              "      <td>0.000000e+00</td>\n",
              "      <td>0</td>\n",
              "      <td>0</td>\n",
              "      <td>0</td>\n",
              "    </tr>\n",
              "  </tbody>\n",
              "</table>\n",
              "<p>5 rows × 79 columns</p>\n",
              "</div>\n",
              "      <button class=\"colab-df-convert\" onclick=\"convertToInteractive('df-2e5c14a8-1878-4dfb-9784-92a53b517b10')\"\n",
              "              title=\"Convert this dataframe to an interactive table.\"\n",
              "              style=\"display:none;\">\n",
              "        \n",
              "  <svg xmlns=\"http://www.w3.org/2000/svg\" height=\"24px\"viewBox=\"0 0 24 24\"\n",
              "       width=\"24px\">\n",
              "    <path d=\"M0 0h24v24H0V0z\" fill=\"none\"/>\n",
              "    <path d=\"M18.56 5.44l.94 2.06.94-2.06 2.06-.94-2.06-.94-.94-2.06-.94 2.06-2.06.94zm-11 1L8.5 8.5l.94-2.06 2.06-.94-2.06-.94L8.5 2.5l-.94 2.06-2.06.94zm10 10l.94 2.06.94-2.06 2.06-.94-2.06-.94-.94-2.06-.94 2.06-2.06.94z\"/><path d=\"M17.41 7.96l-1.37-1.37c-.4-.4-.92-.59-1.43-.59-.52 0-1.04.2-1.43.59L10.3 9.45l-7.72 7.72c-.78.78-.78 2.05 0 2.83L4 21.41c.39.39.9.59 1.41.59.51 0 1.02-.2 1.41-.59l7.78-7.78 2.81-2.81c.8-.78.8-2.07 0-2.86zM5.41 20L4 18.59l7.72-7.72 1.47 1.35L5.41 20z\"/>\n",
              "  </svg>\n",
              "      </button>\n",
              "      \n",
              "  <style>\n",
              "    .colab-df-container {\n",
              "      display:flex;\n",
              "      flex-wrap:wrap;\n",
              "      gap: 12px;\n",
              "    }\n",
              "\n",
              "    .colab-df-convert {\n",
              "      background-color: #E8F0FE;\n",
              "      border: none;\n",
              "      border-radius: 50%;\n",
              "      cursor: pointer;\n",
              "      display: none;\n",
              "      fill: #1967D2;\n",
              "      height: 32px;\n",
              "      padding: 0 0 0 0;\n",
              "      width: 32px;\n",
              "    }\n",
              "\n",
              "    .colab-df-convert:hover {\n",
              "      background-color: #E2EBFA;\n",
              "      box-shadow: 0px 1px 2px rgba(60, 64, 67, 0.3), 0px 1px 3px 1px rgba(60, 64, 67, 0.15);\n",
              "      fill: #174EA6;\n",
              "    }\n",
              "\n",
              "    [theme=dark] .colab-df-convert {\n",
              "      background-color: #3B4455;\n",
              "      fill: #D2E3FC;\n",
              "    }\n",
              "\n",
              "    [theme=dark] .colab-df-convert:hover {\n",
              "      background-color: #434B5C;\n",
              "      box-shadow: 0px 1px 3px 1px rgba(0, 0, 0, 0.15);\n",
              "      filter: drop-shadow(0px 1px 2px rgba(0, 0, 0, 0.3));\n",
              "      fill: #FFFFFF;\n",
              "    }\n",
              "  </style>\n",
              "\n",
              "      <script>\n",
              "        const buttonEl =\n",
              "          document.querySelector('#df-2e5c14a8-1878-4dfb-9784-92a53b517b10 button.colab-df-convert');\n",
              "        buttonEl.style.display =\n",
              "          google.colab.kernel.accessAllowed ? 'block' : 'none';\n",
              "\n",
              "        async function convertToInteractive(key) {\n",
              "          const element = document.querySelector('#df-2e5c14a8-1878-4dfb-9784-92a53b517b10');\n",
              "          const dataTable =\n",
              "            await google.colab.kernel.invokeFunction('convertToInteractive',\n",
              "                                                     [key], {});\n",
              "          if (!dataTable) return;\n",
              "\n",
              "          const docLinkHtml = 'Like what you see? Visit the ' +\n",
              "            '<a target=\"_blank\" href=https://colab.research.google.com/notebooks/data_table.ipynb>data table notebook</a>'\n",
              "            + ' to learn more about interactive tables.';\n",
              "          element.innerHTML = '';\n",
              "          dataTable['output_type'] = 'display_data';\n",
              "          await google.colab.output.renderOutput(dataTable, element);\n",
              "          const docLink = document.createElement('div');\n",
              "          docLink.innerHTML = docLinkHtml;\n",
              "          element.appendChild(docLink);\n",
              "        }\n",
              "      </script>\n",
              "    </div>\n",
              "  </div>\n",
              "  "
            ]
          },
          "metadata": {},
          "execution_count": 3
        }
      ]
    },
    {
      "cell_type": "markdown",
      "source": [
        "#2. DIVIDIENDO DATASET ENTRE CONJUNTOS DE ENTRENO, TESTEO Y VALIDACION\n"
      ],
      "metadata": {
        "id": "QhdJaJdf7J-G"
      }
    },
    {
      "cell_type": "code",
      "source": [
        "#Evitando valores NaN e inf  \n",
        "df = df[~df.isin([np.nan, np.inf, -np.inf]).any(1)] \n",
        "\n",
        "#Dimensiones base de datos\n",
        "df.shape"
      ],
      "metadata": {
        "id": "VpTLGUkBPPRD",
        "colab": {
          "base_uri": "https://localhost:8080/"
        },
        "outputId": "c0713376-fa00-44f0-ecf4-41d71e28ef7f"
      },
      "execution_count": 4,
      "outputs": [
        {
          "output_type": "execute_result",
          "data": {
            "text/plain": [
              "(1113745, 79)"
            ]
          },
          "metadata": {},
          "execution_count": 4
        }
      ]
    },
    {
      "cell_type": "code",
      "source": [
        "#Usando sklearn para dividir dataset cargado\n",
        "train_df, test_df = train_test_split(df, test_size=0.2)\n",
        "train_df, val_df = train_test_split(train_df, test_size=0.2)\n",
        "\n",
        "#Tomando características y etiquetas de los arrays Form np arrays of labels and features\n",
        "train_labels = np.array(train_df.pop(' Label')) #Tomando etiquetas de entrenamiento\n",
        "bool_train_labels = train_labels != 0\n",
        "val_labels = np.array(val_df.pop(' Label')) #Tomando etiquetas de validacion\n",
        "test_labels = np.array(test_df.pop(' Label')) #Tomando etiquetas de testeo\n",
        "\n",
        "train_features = np.array(train_df) #Tomando caracteristícas de entrenamiento\n",
        "val_features = np.array(val_df) #Tomando caracteristícas de validación\n",
        "test_features = np.array(test_df) #Tomando caracteristícas de testeo"
      ],
      "metadata": {
        "id": "4YhVtvP0PxMf"
      },
      "execution_count": 8,
      "outputs": []
    },
    {
      "cell_type": "code",
      "source": [
        "scaler = StandardScaler() #Normalizar datos\n",
        "train_features = scaler.fit_transform(train_features) #Escalar datos de entrenamiento y aprender parámetros de escalado.\n",
        "\n",
        "val_features = scaler.transform(val_features) #Se usa la misma media y varianza de entrenamiento para validación\n",
        "test_features = scaler.transform(test_features) #Se usa la misma media y varianza de entrenamiento para testeo\n",
        "\n",
        "print('Training labels shape:', train_labels.shape)\n",
        "print('Validation labels shape:', val_labels.shape)\n",
        "print('Test labels shape:', test_labels.shape)\n",
        "print(\"------------------------------------------\")\n",
        "print('Training features shape:', train_features.shape)\n",
        "print('Validation features shape:', val_features.shape)\n",
        "print('Test features shape:', test_features.shape)"
      ],
      "metadata": {
        "id": "mn7WeaFyQDdJ",
        "colab": {
          "base_uri": "https://localhost:8080/"
        },
        "outputId": "a8c199b6-4683-4281-b055-f9b08324177b"
      },
      "execution_count": 12,
      "outputs": [
        {
          "output_type": "stream",
          "name": "stdout",
          "text": [
            "Training labels shape: (712796,)\n",
            "Validation labels shape: (178200,)\n",
            "Test labels shape: (222749,)\n",
            "------------------------------------------\n",
            "Training features shape: (712796, 78)\n",
            "Validation features shape: (178200, 78)\n",
            "Test features shape: (222749, 78)\n"
          ]
        }
      ]
    },
    {
      "cell_type": "markdown",
      "source": [
        "#3. ENSAMBLAJE DE LOS MODELOS"
      ],
      "metadata": {
        "id": "CxIZv3iYaJws"
      }
    },
    {
      "cell_type": "code",
      "source": [
        "#Hiperparámetros\n",
        "units = 50\n",
        "dropout = 0.2\n",
        "num_labels = 2\n",
        "BATCH_SIZE = 256\n",
        "EPOCHS = 5"
      ],
      "metadata": {
        "id": "dzjng4JUKmSw"
      },
      "execution_count": 30,
      "outputs": []
    },
    {
      "cell_type": "code",
      "source": [
        "#Reshape necesario para procesamiento en RNN y LSTM. https://ai-leader.com/2020/05/09/using-lstm-with-1d-2d-and-3d-array/\n",
        "train_features = np.reshape(train_features,(train_features.shape[0], train_features.shape[1], 1))\n",
        "test_features = np.reshape(test_features,(test_features.shape[0], test_features.shape[1], 1))\n",
        "print(\"TRAIN FEATURES SHAPE: \", train_features.shape)\n",
        "print(\"TEST FEATURES SHAPE: \", test_features.shape)"
      ],
      "metadata": {
        "id": "xHvTueH43ZRA",
        "colab": {
          "base_uri": "https://localhost:8080/"
        },
        "outputId": "42b4cab5-bd92-4885-ae96-57dc5c29b391"
      },
      "execution_count": 34,
      "outputs": [
        {
          "output_type": "stream",
          "name": "stdout",
          "text": [
            "TRAIN FEATURES SHAPE:  (712796, 78, 1)\n",
            "TEST FEATURES SHAPE:  (222749, 78, 1)\n"
          ]
        }
      ]
    },
    {
      "cell_type": "code",
      "source": [
        "#Configurando EARLY STOPPING\n",
        "early_stopping = tf.keras.callbacks.EarlyStopping( #Aplicando early stopping evitando caer procesamiento inecesario\n",
        "    monitor='val_prc', \n",
        "    verbose=1,\n",
        "    patience=10,\n",
        "    mode='max',\n",
        "    restore_best_weights=True)"
      ],
      "metadata": {
        "id": "XY0QKCH5-rv1"
      },
      "execution_count": 33,
      "outputs": []
    },
    {
      "cell_type": "code",
      "source": [
        "#Métricas a evaluar en el modelo\n",
        "METRICS = [\n",
        "      keras.metrics.TruePositives(name='tp'),\n",
        "      keras.metrics.FalsePositives(name='fp'),\n",
        "      keras.metrics.TrueNegatives(name='tn'),\n",
        "      keras.metrics.FalseNegatives(name='fn'), \n",
        "      keras.metrics.BinaryAccuracy(name='accuracy'),\n",
        "      keras.metrics.Precision(name='precision'),\n",
        "      keras.metrics.Recall(name='recall'),\n",
        "      keras.metrics.AUC(name='auc'),\n",
        "      keras.metrics.AUC(name='prc', curve='PR'),\n",
        "]"
      ],
      "metadata": {
        "id": "GJO-7eNFAZ0V"
      },
      "execution_count": 42,
      "outputs": []
    },
    {
      "cell_type": "markdown",
      "source": [
        "RNN"
      ],
      "metadata": {
        "id": "ZB6MmUPP8mkV"
      }
    },
    {
      "cell_type": "code",
      "source": [
        "model_RNN = Sequential()\n",
        "model_RNN.add(SimpleRNN(units=units, input_shape=[train_features.shape[1], 1])) #(79, 1)\n",
        "model_RNN.add(Dropout(dropout))           \n",
        "model_RNN.add(Dense(1, activation=\"sigmoid\"))\n",
        "model_RNN.summary()"
      ],
      "metadata": {
        "colab": {
          "base_uri": "https://localhost:8080/"
        },
        "id": "zBFNPRcY8q-k",
        "outputId": "a2ea6fbe-0354-49a3-b01b-687c1b7ee76b"
      },
      "execution_count": 35,
      "outputs": [
        {
          "output_type": "stream",
          "name": "stdout",
          "text": [
            "Model: \"sequential_6\"\n",
            "_________________________________________________________________\n",
            " Layer (type)                Output Shape              Param #   \n",
            "=================================================================\n",
            " simple_rnn_3 (SimpleRNN)    (None, 50)                2600      \n",
            "                                                                 \n",
            " dropout_6 (Dropout)         (None, 50)                0         \n",
            "                                                                 \n",
            " dense_6 (Dense)             (None, 1)                 51        \n",
            "                                                                 \n",
            "=================================================================\n",
            "Total params: 2,651\n",
            "Trainable params: 2,651\n",
            "Non-trainable params: 0\n",
            "_________________________________________________________________\n"
          ]
        }
      ]
    },
    {
      "cell_type": "code",
      "source": [
        "model_RNN.compile(loss='mean_squared_error', optimizer='adam', metrics=METRICS)"
      ],
      "metadata": {
        "id": "zxT0-OwffQhE"
      },
      "execution_count": 44,
      "outputs": []
    },
    {
      "cell_type": "markdown",
      "source": [
        "LSTM\n"
      ],
      "metadata": {
        "id": "CLq-HQZq8oEd"
      }
    },
    {
      "cell_type": "code",
      "source": [
        "model_LSTM = Sequential()\n",
        "model_LSTM.add(LSTM(units=units, input_shape=[train_features.shape[1], 1])) #(79, 1)\n",
        "model_LSTM.add(Dropout(dropout))           \n",
        "model_LSTM.add(Dense(1, activation=\"sigmoid\"))\n",
        "model_LSTM.summary()"
      ],
      "metadata": {
        "colab": {
          "base_uri": "https://localhost:8080/"
        },
        "id": "qpRi0Wlan9fi",
        "outputId": "d8ea9d5e-41f9-4cb5-e04f-d56ccb482c4c"
      },
      "execution_count": 66,
      "outputs": [
        {
          "output_type": "stream",
          "name": "stdout",
          "text": [
            "Model: \"sequential_9\"\n",
            "_________________________________________________________________\n",
            " Layer (type)                Output Shape              Param #   \n",
            "=================================================================\n",
            " lstm_5 (LSTM)               (None, 50)                10400     \n",
            "                                                                 \n",
            " dropout_9 (Dropout)         (None, 50)                0         \n",
            "                                                                 \n",
            " dense_9 (Dense)             (None, 1)                 51        \n",
            "                                                                 \n",
            "=================================================================\n",
            "Total params: 10,451\n",
            "Trainable params: 10,451\n",
            "Non-trainable params: 0\n",
            "_________________________________________________________________\n"
          ]
        }
      ]
    },
    {
      "cell_type": "code",
      "source": [
        "model_LSTM.compile(loss='mean_squared_error', optimizer='adam', metrics=METRICS)"
      ],
      "metadata": {
        "id": "4k-FWlhy9nRe"
      },
      "execution_count": 67,
      "outputs": []
    },
    {
      "cell_type": "markdown",
      "source": [
        "# 4. ENTRENAMIENTO DE LOS MODELOS"
      ],
      "metadata": {
        "id": "si9FuwkA90CF"
      }
    },
    {
      "cell_type": "markdown",
      "source": [
        "RNN"
      ],
      "metadata": {
        "id": "pqpzPB1o98jF"
      }
    },
    {
      "cell_type": "code",
      "source": [
        "baseline_history_RNN = model_RNN.fit(\n",
        "    train_features,\n",
        "    np.array(train_labels),\n",
        "    batch_size=BATCH_SIZE,\n",
        "    verbose=1,\n",
        "    epochs=EPOCHS,\n",
        "    callbacks=[early_stopping],\n",
        "    validation_data=(val_features, val_labels))"
      ],
      "metadata": {
        "colab": {
          "base_uri": "https://localhost:8080/"
        },
        "id": "__fe4m7--Wwg",
        "outputId": "1191dfd5-88f5-450f-d90e-9f9d89dcd8fa"
      },
      "execution_count": 48,
      "outputs": [
        {
          "output_type": "stream",
          "name": "stdout",
          "text": [
            "Epoch 1/5\n",
            "2785/2785 [==============================] - 168s 48ms/step - loss: 0.0217 - tp: 350964.0000 - fp: 12596.0000 - tn: 343703.0000 - fn: 5533.0000 - accuracy: 0.9746 - precision: 0.9654 - recall: 0.9845 - auc: 0.9923 - prc: 0.9914 - val_loss: 0.0183 - val_tp: 87934.0000 - val_fp: 3042.0000 - val_tn: 86393.0000 - val_fn: 831.0000 - val_accuracy: 0.9783 - val_precision: 0.9666 - val_recall: 0.9906 - val_auc: 0.9940 - val_prc: 0.9937\n",
            "Epoch 2/5\n",
            "2785/2785 [==============================] - 136s 49ms/step - loss: 0.0202 - tp: 351401.0000 - fp: 11718.0000 - tn: 344581.0000 - fn: 5096.0000 - accuracy: 0.9764 - precision: 0.9677 - recall: 0.9857 - auc: 0.9930 - prc: 0.9925 - val_loss: 0.0160 - val_tp: 87787.0000 - val_fp: 2334.0000 - val_tn: 87101.0000 - val_fn: 978.0000 - val_accuracy: 0.9814 - val_precision: 0.9741 - val_recall: 0.9890 - val_auc: 0.9952 - val_prc: 0.9952\n",
            "Epoch 3/5\n",
            "2785/2785 [==============================] - 131s 47ms/step - loss: 0.0204 - tp: 351485.0000 - fp: 12007.0000 - tn: 344292.0000 - fn: 5012.0000 - accuracy: 0.9761 - precision: 0.9670 - recall: 0.9859 - auc: 0.9933 - prc: 0.9928 - val_loss: 0.0158 - val_tp: 87979.0000 - val_fp: 2532.0000 - val_tn: 86903.0000 - val_fn: 786.0000 - val_accuracy: 0.9814 - val_precision: 0.9720 - val_recall: 0.9911 - val_auc: 0.9956 - val_prc: 0.9958\n",
            "Epoch 4/5\n",
            "2785/2785 [==============================] - 138s 50ms/step - loss: 0.0209 - tp: 351267.0000 - fp: 12240.0000 - tn: 344059.0000 - fn: 5230.0000 - accuracy: 0.9755 - precision: 0.9663 - recall: 0.9853 - auc: 0.9931 - prc: 0.9926 - val_loss: 0.0166 - val_tp: 87610.0000 - val_fp: 2237.0000 - val_tn: 87198.0000 - val_fn: 1155.0000 - val_accuracy: 0.9810 - val_precision: 0.9751 - val_recall: 0.9870 - val_auc: 0.9955 - val_prc: 0.9957\n",
            "Epoch 5/5\n",
            "2785/2785 [==============================] - 136s 49ms/step - loss: 0.0194 - tp: 351746.0000 - fp: 11313.0000 - tn: 344986.0000 - fn: 4751.0000 - accuracy: 0.9775 - precision: 0.9688 - recall: 0.9867 - auc: 0.9938 - prc: 0.9937 - val_loss: 0.0145 - val_tp: 87807.0000 - val_fp: 2120.0000 - val_tn: 87315.0000 - val_fn: 958.0000 - val_accuracy: 0.9827 - val_precision: 0.9764 - val_recall: 0.9892 - val_auc: 0.9963 - val_prc: 0.9965\n"
          ]
        }
      ]
    },
    {
      "cell_type": "markdown",
      "source": [
        "LSTM"
      ],
      "metadata": {
        "id": "IdezJNmFFXYd"
      }
    },
    {
      "cell_type": "code",
      "source": [
        "baseline_history_LSTM = model_LSTM.fit(\n",
        "    train_features,\n",
        "    np.array(train_labels),\n",
        "    batch_size=BATCH_SIZE,\n",
        "    verbose=1,\n",
        "    epochs=EPOCHS,\n",
        "    callbacks=[early_stopping],\n",
        "    validation_data=(val_features, val_labels))"
      ],
      "metadata": {
        "colab": {
          "base_uri": "https://localhost:8080/"
        },
        "id": "1lRkKm9hopVd",
        "outputId": "de0e4f72-ee1b-46fa-ab62-0cdda279b3e0"
      },
      "execution_count": 68,
      "outputs": [
        {
          "output_type": "stream",
          "name": "stdout",
          "text": [
            "Epoch 1/5\n",
            "2785/2785 [==============================] - 36s 12ms/step - loss: 0.0799 - tp: 399440.0000 - fp: 33939.0000 - tn: 411795.0000 - fn: 45822.0000 - accuracy: 0.9105 - precision: 0.9217 - recall: 0.8971 - auc: 0.9675 - prc: 0.9668 - val_loss: 0.0476 - val_tp: 86257.0000 - val_fp: 7745.0000 - val_tn: 81690.0000 - val_fn: 2508.0000 - val_accuracy: 0.9425 - val_precision: 0.9176 - val_recall: 0.9717 - val_auc: 0.9745 - val_prc: 0.9719\n",
            "Epoch 2/5\n",
            "2785/2785 [==============================] - 29s 11ms/step - loss: 0.0399 - tp: 342391.0000 - fp: 19993.0000 - tn: 336306.0000 - fn: 14106.0000 - accuracy: 0.9522 - precision: 0.9448 - recall: 0.9604 - auc: 0.9805 - prc: 0.9799 - val_loss: 0.0321 - val_tp: 86057.0000 - val_fp: 3988.0000 - val_tn: 85447.0000 - val_fn: 2708.0000 - val_accuracy: 0.9624 - val_precision: 0.9557 - val_recall: 0.9695 - val_auc: 0.9871 - val_prc: 0.9871\n",
            "Epoch 3/5\n",
            "2785/2785 [==============================] - 31s 11ms/step - loss: 0.0337 - tp: 344841.0000 - fp: 16772.0000 - tn: 339527.0000 - fn: 11656.0000 - accuracy: 0.9601 - precision: 0.9536 - recall: 0.9673 - auc: 0.9850 - prc: 0.9853 - val_loss: 0.0275 - val_tp: 86802.0000 - val_fp: 3704.0000 - val_tn: 85731.0000 - val_fn: 1963.0000 - val_accuracy: 0.9682 - val_precision: 0.9591 - val_recall: 0.9779 - val_auc: 0.9895 - val_prc: 0.9896\n",
            "Epoch 4/5\n",
            "2785/2785 [==============================] - 30s 11ms/step - loss: 0.0296 - tp: 347015.0000 - fp: 15495.0000 - tn: 340804.0000 - fn: 9482.0000 - accuracy: 0.9650 - precision: 0.9573 - recall: 0.9734 - auc: 0.9877 - prc: 0.9883 - val_loss: 0.0275 - val_tp: 86097.0000 - val_fp: 3179.0000 - val_tn: 86256.0000 - val_fn: 2668.0000 - val_accuracy: 0.9672 - val_precision: 0.9644 - val_recall: 0.9699 - val_auc: 0.9906 - val_prc: 0.9909\n",
            "Epoch 5/5\n",
            "2785/2785 [==============================] - 30s 11ms/step - loss: 0.0274 - tp: 347909.0000 - fp: 14775.0000 - tn: 341524.0000 - fn: 8588.0000 - accuracy: 0.9672 - precision: 0.9593 - recall: 0.9759 - auc: 0.9899 - prc: 0.9905 - val_loss: 0.0264 - val_tp: 87346.0000 - val_fp: 4024.0000 - val_tn: 85411.0000 - val_fn: 1419.0000 - val_accuracy: 0.9695 - val_precision: 0.9560 - val_recall: 0.9840 - val_auc: 0.9927 - val_prc: 0.9930\n"
          ]
        }
      ]
    },
    {
      "cell_type": "markdown",
      "source": [
        "# 5. EVALUACION DE LOS MODELOS"
      ],
      "metadata": {
        "id": "Os2R2F9FG168"
      }
    },
    {
      "cell_type": "code",
      "source": [
        "#Graficando métricas\n",
        "def plot_metrics(history):\n",
        "  metrics = ['loss', 'prc', 'precision', 'recall']\n",
        "  for n, metric in enumerate(metrics):\n",
        "    name = metric.replace(\"_\",\" \").capitalize()\n",
        "    plt.subplot(2,2,n+1)\n",
        "    plt.plot(history.epoch, history.history[metric], color=colors[0], label='Train')\n",
        "    plt.plot(history.epoch, history.history['val_'+metric],\n",
        "             color=colors[0], linestyle=\"--\", label='Val')\n",
        "    plt.xlabel('Epoch')\n",
        "    plt.ylabel(name)\n",
        "    if metric == 'loss':\n",
        "      plt.ylim([0, plt.ylim()[1]])\n",
        "    elif metric == 'auc':\n",
        "      plt.ylim([0.8,1])\n",
        "    else:\n",
        "      plt.ylim([0,1])\n",
        "\n",
        "    plt.legend();"
      ],
      "metadata": {
        "id": "R-U7rL3u-ab9"
      },
      "execution_count": 72,
      "outputs": []
    },
    {
      "cell_type": "markdown",
      "source": [
        "RNN"
      ],
      "metadata": {
        "id": "RDL-qlGrIEDs"
      }
    },
    {
      "cell_type": "code",
      "source": [
        "plot_metrics(baseline_history_RNN)"
      ],
      "metadata": {
        "colab": {
          "base_uri": "https://localhost:8080/",
          "height": 610
        },
        "id": "a1NmvOn4JREr",
        "outputId": "cf70ae30-2c30-4aed-cb13-7642a20fffd6"
      },
      "execution_count": 74,
      "outputs": [
        {
          "output_type": "display_data",
          "data": {
            "text/plain": [
              "<Figure size 864x720 with 4 Axes>"
            ],
            "image/png": "[encoded data removed]"
          },
          "metadata": {
            "needs_background": "light"
          }
        }
      ]
    },
    {
      "cell_type": "code",
      "source": [
        "baseline_results_RNN = model_RNN.evaluate(test_features, test_labels, batch_size=BATCH_SIZE, verbose=0)\n",
        "for name, value in zip(model_RNN.metrics_names, baseline_results_RNN):\n",
        "  print(name, ': ', value)\n",
        "print()"
      ],
      "metadata": {
        "colab": {
          "base_uri": "https://localhost:8080/"
        },
        "id": "d9ktVjocqcnT",
        "outputId": "aaa3f523-99aa-4a62-a42e-65ba136b0240"
      },
      "execution_count": 76,
      "outputs": [
        {
          "output_type": "stream",
          "name": "stdout",
          "text": [
            "loss :  0.014170554466545582\n",
            "tp :  110077.0\n",
            "fp :  2578.0\n",
            "tn :  108877.0\n",
            "fn :  1217.0\n",
            "accuracy :  0.9829629063606262\n",
            "precision :  0.9771159887313843\n",
            "recall :  0.9890649914741516\n",
            "auc :  0.9964742660522461\n",
            "prc :  0.9966427683830261\n",
            "\n"
          ]
        }
      ]
    },
    {
      "cell_type": "markdown",
      "source": [
        "LSTM"
      ],
      "metadata": {
        "id": "eHkSZ9tpIHME"
      }
    },
    {
      "cell_type": "code",
      "source": [
        "plot_metrics(baseline_history_LSTM)"
      ],
      "metadata": {
        "colab": {
          "base_uri": "https://localhost:8080/",
          "height": 610
        },
        "id": "M_BhuAsQJYqE",
        "outputId": "0fab4ab7-6673-4ea1-ac20-7b86673e4544"
      },
      "execution_count": 75,
      "outputs": [
        {
          "output_type": "display_data",
          "data": {
            "text/plain": [
              "<Figure size 864x720 with 4 Axes>"
            ],
            "image/png": "[encoded data removed]"
          },
          "metadata": {
            "needs_background": "light"
          }
        }
      ]
    },
    {
      "cell_type": "code",
      "source": [
        "baseline_results_LSTM = model_LSTM.evaluate(test_features, test_labels, batch_size=BATCH_SIZE, verbose=0)\n",
        "for name, value in zip(model_LSTM.metrics_names, baseline_results_LSTM):\n",
        "  print(name, ': ', value)\n",
        "print()"
      ],
      "metadata": {
        "colab": {
          "base_uri": "https://localhost:8080/"
        },
        "id": "M0O4YZ1-KX8E",
        "outputId": "71dd8834-63bc-48e6-b0e9-45fa022214cd"
      },
      "execution_count": 77,
      "outputs": [
        {
          "output_type": "stream",
          "name": "stdout",
          "text": [
            "loss :  0.026138100773096085\n",
            "tp :  109466.0\n",
            "fp :  4895.0\n",
            "tn :  106560.0\n",
            "fn :  1828.0\n",
            "accuracy :  0.9698180556297302\n",
            "precision :  0.9571969509124756\n",
            "recall :  0.9835750460624695\n",
            "auc :  0.9927149415016174\n",
            "prc :  0.9932591319084167\n",
            "\n"
          ]
        }
      ]
    },
    {
      "cell_type": "markdown",
      "source": [
        "# 6. MATRICES DE CONFUSION"
      ],
      "metadata": {
        "id": "Mqux-FqJKj4H"
      }
    },
    {
      "cell_type": "code",
      "source": [
        "#Graficando matriz de confusión\n",
        "def matriz_C(labels, predictions, p=0.5):\n",
        "  cm = confusion_matrix(labels, predictions > p)\n",
        "  plt.figure(figsize=(5,5))\n",
        "  sns.heatmap(cm, annot=True, fmt=\"d\")\n",
        "  plt.title('Confusion matrix @{:.2f}'.format(p))\n",
        "  plt.ylabel('Actual label')\n",
        "  plt.xlabel('Predicted label')\n",
        "\n",
        "  print('Legitimate Transactions Detected (True Negatives): ', cm[0][0])\n",
        "  print('Legitimate Transactions Incorrectly Detected (False Positives): ', cm[0][1])\n",
        "  print('Fraudulent Transactions Missed (False Negatives): ', cm[1][0])\n",
        "  print('Fraudulent Transactions Detected (True Positives): ', cm[1][1])\n",
        "  print('Total Fraudulent Transactions: ', np.sum(cm[1]))"
      ],
      "metadata": {
        "id": "-QbBLnVhKjid"
      },
      "execution_count": 80,
      "outputs": []
    },
    {
      "cell_type": "markdown",
      "source": [
        "RNN"
      ],
      "metadata": {
        "id": "JbCxEPavLbWT"
      }
    },
    {
      "cell_type": "code",
      "source": [
        "train_predictions_baseline_RNN = model_RNN.predict(train_features, batch_size=BATCH_SIZE)\n",
        "test_predictions_baseline_RNN = model_RNN.predict(test_features, batch_size=BATCH_SIZE)"
      ],
      "metadata": {
        "colab": {
          "base_uri": "https://localhost:8080/"
        },
        "id": "bh3D4PZhghAo",
        "outputId": "cc38ce16-744d-4b4d-c6ff-c149c6730b02"
      },
      "execution_count": 79,
      "outputs": [
        {
          "output_type": "stream",
          "name": "stdout",
          "text": [
            "2785/2785 [==============================] - 21s 8ms/step\n",
            "871/871 [==============================] - 9s 10ms/step\n"
          ]
        }
      ]
    },
    {
      "cell_type": "code",
      "source": [
        "matriz_C(test_labels, test_predictions_baseline_RNN)"
      ],
      "metadata": {
        "colab": {
          "base_uri": "https://localhost:8080/",
          "height": 437
        },
        "id": "HISWI_KSMGv9",
        "outputId": "7b916432-7114-41e1-b9ac-850cf1c71f7a"
      },
      "execution_count": 81,
      "outputs": [
        {
          "output_type": "stream",
          "name": "stdout",
          "text": [
            "Legitimate Transactions Detected (True Negatives):  108877\n",
            "Legitimate Transactions Incorrectly Detected (False Positives):  2578\n",
            "Fraudulent Transactions Missed (False Negatives):  1217\n",
            "Fraudulent Transactions Detected (True Positives):  110077\n",
            "Total Fraudulent Transactions:  111294\n"
          ]
        },
        {
          "output_type": "display_data",
          "data": {
            "text/plain": [
              "<Figure size 360x360 with 2 Axes>"
            ],
            "image/png": "[encoded data removed]"
          },
          "metadata": {
            "needs_background": "light"
          }
        }
      ]
    },
    {
      "cell_type": "markdown",
      "source": [
        "LSTM"
      ],
      "metadata": {
        "id": "9AwtDuaBLcbW"
      }
    },
    {
      "cell_type": "code",
      "source": [
        "train_predictions_baseline_LSTM = model_LSTM.predict(train_features, batch_size=BATCH_SIZE)\n",
        "test_predictions_baseline_LSTM = model_LSTM.predict(test_features, batch_size=BATCH_SIZE)"
      ],
      "metadata": {
        "colab": {
          "base_uri": "https://localhost:8080/"
        },
        "id": "tuAABiRqIISz",
        "outputId": "598e15ec-572d-437c-c09b-f4f4714cbf6d"
      },
      "execution_count": 82,
      "outputs": [
        {
          "output_type": "stream",
          "name": "stdout",
          "text": [
            "2785/2785 [==============================] - 14s 5ms/step\n",
            "871/871 [==============================] - 3s 4ms/step\n"
          ]
        }
      ]
    },
    {
      "cell_type": "code",
      "source": [
        "matriz_C(test_labels, test_predictions_baseline_LSTM)"
      ],
      "metadata": {
        "colab": {
          "base_uri": "https://localhost:8080/",
          "height": 437
        },
        "id": "rP-lrtYaMXY8",
        "outputId": "7b023b87-fcef-47a8-8699-b15bfc741df7"
      },
      "execution_count": 83,
      "outputs": [
        {
          "output_type": "stream",
          "name": "stdout",
          "text": [
            "Legitimate Transactions Detected (True Negatives):  106560\n",
            "Legitimate Transactions Incorrectly Detected (False Positives):  4895\n",
            "Fraudulent Transactions Missed (False Negatives):  1828\n",
            "Fraudulent Transactions Detected (True Positives):  109466\n",
            "Total Fraudulent Transactions:  111294\n"
          ]
        },
        {
          "output_type": "display_data",
          "data": {
            "text/plain": [
              "<Figure size 360x360 with 2 Axes>"
            ],
            "image/png": "[encoded data removed]"
          },
          "metadata": {
            "needs_background": "light"
          }
        }
      ]
    }
  ]
}